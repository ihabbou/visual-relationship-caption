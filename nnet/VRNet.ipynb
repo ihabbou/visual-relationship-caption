{
 "cells": [
  {
   "cell_type": "markdown",
   "metadata": {},
   "source": [
    "# Visual Relationship Recognition Convolutional Neural Network"
   ]
  },
  {
   "cell_type": "code",
   "execution_count": null,
   "metadata": {},
   "outputs": [],
   "source": []
  },
  {
   "cell_type": "markdown",
   "metadata": {},
   "source": [
    "## Imports"
   ]
  },
  {
   "cell_type": "code",
   "execution_count": 1,
   "metadata": {},
   "outputs": [
    {
     "name": "stderr",
     "output_type": "stream",
     "text": [
      "c:\\pphiles\\python37\\lib\\site-packages\\tensorflow\\python\\framework\\dtypes.py:516: FutureWarning: Passing (type, 1) or '1type' as a synonym of type is deprecated; in a future version of numpy, it will be understood as (type, (1,)) / '(1,)type'.\n",
      "  _np_qint8 = np.dtype([(\"qint8\", np.int8, 1)])\n",
      "c:\\pphiles\\python37\\lib\\site-packages\\tensorflow\\python\\framework\\dtypes.py:517: FutureWarning: Passing (type, 1) or '1type' as a synonym of type is deprecated; in a future version of numpy, it will be understood as (type, (1,)) / '(1,)type'.\n",
      "  _np_quint8 = np.dtype([(\"quint8\", np.uint8, 1)])\n",
      "c:\\pphiles\\python37\\lib\\site-packages\\tensorflow\\python\\framework\\dtypes.py:518: FutureWarning: Passing (type, 1) or '1type' as a synonym of type is deprecated; in a future version of numpy, it will be understood as (type, (1,)) / '(1,)type'.\n",
      "  _np_qint16 = np.dtype([(\"qint16\", np.int16, 1)])\n",
      "c:\\pphiles\\python37\\lib\\site-packages\\tensorflow\\python\\framework\\dtypes.py:519: FutureWarning: Passing (type, 1) or '1type' as a synonym of type is deprecated; in a future version of numpy, it will be understood as (type, (1,)) / '(1,)type'.\n",
      "  _np_quint16 = np.dtype([(\"quint16\", np.uint16, 1)])\n",
      "c:\\pphiles\\python37\\lib\\site-packages\\tensorflow\\python\\framework\\dtypes.py:520: FutureWarning: Passing (type, 1) or '1type' as a synonym of type is deprecated; in a future version of numpy, it will be understood as (type, (1,)) / '(1,)type'.\n",
      "  _np_qint32 = np.dtype([(\"qint32\", np.int32, 1)])\n",
      "c:\\pphiles\\python37\\lib\\site-packages\\tensorflow\\python\\framework\\dtypes.py:525: FutureWarning: Passing (type, 1) or '1type' as a synonym of type is deprecated; in a future version of numpy, it will be understood as (type, (1,)) / '(1,)type'.\n",
      "  np_resource = np.dtype([(\"resource\", np.ubyte, 1)])\n",
      "c:\\pphiles\\python37\\lib\\site-packages\\tensorboard\\compat\\tensorflow_stub\\dtypes.py:541: FutureWarning: Passing (type, 1) or '1type' as a synonym of type is deprecated; in a future version of numpy, it will be understood as (type, (1,)) / '(1,)type'.\n",
      "  _np_qint8 = np.dtype([(\"qint8\", np.int8, 1)])\n",
      "c:\\pphiles\\python37\\lib\\site-packages\\tensorboard\\compat\\tensorflow_stub\\dtypes.py:542: FutureWarning: Passing (type, 1) or '1type' as a synonym of type is deprecated; in a future version of numpy, it will be understood as (type, (1,)) / '(1,)type'.\n",
      "  _np_quint8 = np.dtype([(\"quint8\", np.uint8, 1)])\n",
      "c:\\pphiles\\python37\\lib\\site-packages\\tensorboard\\compat\\tensorflow_stub\\dtypes.py:543: FutureWarning: Passing (type, 1) or '1type' as a synonym of type is deprecated; in a future version of numpy, it will be understood as (type, (1,)) / '(1,)type'.\n",
      "  _np_qint16 = np.dtype([(\"qint16\", np.int16, 1)])\n",
      "c:\\pphiles\\python37\\lib\\site-packages\\tensorboard\\compat\\tensorflow_stub\\dtypes.py:544: FutureWarning: Passing (type, 1) or '1type' as a synonym of type is deprecated; in a future version of numpy, it will be understood as (type, (1,)) / '(1,)type'.\n",
      "  _np_quint16 = np.dtype([(\"quint16\", np.uint16, 1)])\n",
      "c:\\pphiles\\python37\\lib\\site-packages\\tensorboard\\compat\\tensorflow_stub\\dtypes.py:545: FutureWarning: Passing (type, 1) or '1type' as a synonym of type is deprecated; in a future version of numpy, it will be understood as (type, (1,)) / '(1,)type'.\n",
      "  _np_qint32 = np.dtype([(\"qint32\", np.int32, 1)])\n",
      "c:\\pphiles\\python37\\lib\\site-packages\\tensorboard\\compat\\tensorflow_stub\\dtypes.py:550: FutureWarning: Passing (type, 1) or '1type' as a synonym of type is deprecated; in a future version of numpy, it will be understood as (type, (1,)) / '(1,)type'.\n",
      "  np_resource = np.dtype([(\"resource\", np.ubyte, 1)])\n"
     ]
    }
   ],
   "source": [
    "%config IPCompleter.greedy=True\n",
    "%matplotlib inline\n",
    "import matplotlib.pyplot as plt\n",
    "import tensorflow as tf\n",
    "import numpy as np\n",
    "import pandas as pd\n",
    "import sys\n",
    "sys.path.append(\"..\")\n",
    "sys.path.append(\"../Mask_RCNN-master/\")\n",
    "import os\n",
    "from PIL import Image\n",
    "from cache import cache"
   ]
  },
  {
   "cell_type": "code",
   "execution_count": 2,
   "metadata": {},
   "outputs": [],
   "source": [
    "from tensorflow.python.keras import backend as K\n",
    "from tensorflow.python.keras.models import Model\n",
    "from tensorflow.python.keras.applications import VGG16\n",
    "\n",
    "from tensorflow.python.keras.layers import Input, Dense, GRU, Embedding\n",
    "from tensorflow.python.keras.applications import VGG16\n",
    "from tensorflow.python.keras.optimizers import RMSprop\n",
    "from tensorflow.python.keras.callbacks import ModelCheckpoint, TensorBoard\n",
    "\n",
    "from tensorflow.python.keras.preprocessing.text import Tokenizer\n",
    "from tensorflow.python.keras.preprocessing.sequence import pad_sequences"
   ]
  },
  {
   "cell_type": "code",
   "execution_count": 3,
   "metadata": {},
   "outputs": [
    {
     "data": {
      "text/plain": [
       "'1.14.0'"
      ]
     },
     "execution_count": 3,
     "metadata": {},
     "output_type": "execute_result"
    }
   ],
   "source": [
    "tf.__version__"
   ]
  },
  {
   "cell_type": "code",
   "execution_count": 4,
   "metadata": {},
   "outputs": [
    {
     "data": {
      "text/plain": [
       "'2.2.4-tf'"
      ]
     },
     "execution_count": 4,
     "metadata": {},
     "output_type": "execute_result"
    }
   ],
   "source": [
    "tf.keras.__version__"
   ]
  },
  {
   "cell_type": "markdown",
   "metadata": {},
   "source": [
    "physical_devices = tf.config.experimental.list_physical_devices('GPU')\n",
    "if physical_devices:\n",
    "    tf.config.experimental.set_memory_growth(physical_devices[0], True)"
   ]
  },
  {
   "cell_type": "markdown",
   "metadata": {},
   "source": [
    "# Data\n",
    "\n",
    "### [Open Images Dataset V5](https://storage.googleapis.com/openimages/web/challenge.html)\n",
    "\n",
    "\n",
    "Image Net compressed data (52Gb): [https://drive.google.com/uc?id=10yVowvmFjMkY21-DGF2pej_Lbecfqou7](https://drive.google.com/uc?id=10yVowvmFjMkY21-DGF2pej_Lbecfqou7)  ([Info](https://www.kaggle.com/c/landmark-recognition-2019/discussion/91770))\n"
   ]
  },
  {
   "cell_type": "code",
   "execution_count": 5,
   "metadata": {},
   "outputs": [],
   "source": [
    "IMAGE_DIR = r\"D:\\data\\train-256\\train\"\n",
    "DATA_OUTPUT_DIR = r\"D:\\data\\VRNet\""
   ]
  },
  {
   "cell_type": "code",
   "execution_count": 6,
   "metadata": {},
   "outputs": [],
   "source": [
    "IMAGE_DIR_REL = r\"D:\\data\\VRNet\\imagenet_rel_subset\""
   ]
  },
  {
   "cell_type": "code",
   "execution_count": 7,
   "metadata": {},
   "outputs": [],
   "source": [
    "IMAGENET_DATA_DIR = r\"D:\\data\\open-images-2019-visual-relationship\""
   ]
  },
  {
   "cell_type": "markdown",
   "metadata": {},
   "source": [
    "***"
   ]
  },
  {
   "cell_type": "markdown",
   "metadata": {},
   "source": [
    "***"
   ]
  },
  {
   "cell_type": "code",
   "execution_count": null,
   "metadata": {},
   "outputs": [],
   "source": []
  },
  {
   "cell_type": "markdown",
   "metadata": {},
   "source": [
    "## Transfer"
   ]
  },
  {
   "cell_type": "code",
   "execution_count": 8,
   "metadata": {},
   "outputs": [
    {
     "name": "stderr",
     "output_type": "stream",
     "text": [
      "WARNING: Logging before flag parsing goes to stderr.\n",
      "W1217 20:46:10.316354 15000 deprecation.py:506] From c:\\pphiles\\python37\\lib\\site-packages\\tensorflow\\python\\ops\\init_ops.py:1251: calling VarianceScaling.__init__ (from tensorflow.python.ops.init_ops) with dtype is deprecated and will be removed in a future version.\n",
      "Instructions for updating:\n",
      "Call initializer instance with the dtype argument instead of passing it to the constructor\n"
     ]
    }
   ],
   "source": [
    "image_model = VGG16(include_top=True, weights='imagenet')"
   ]
  },
  {
   "cell_type": "code",
   "execution_count": 9,
   "metadata": {},
   "outputs": [
    {
     "name": "stdout",
     "output_type": "stream",
     "text": [
      "Model: \"vgg16\"\n",
      "_________________________________________________________________\n",
      "Layer (type)                 Output Shape              Param #   \n",
      "=================================================================\n",
      "input_1 (InputLayer)         [(None, 224, 224, 3)]     0         \n",
      "_________________________________________________________________\n",
      "block1_conv1 (Conv2D)        (None, 224, 224, 64)      1792      \n",
      "_________________________________________________________________\n",
      "block1_conv2 (Conv2D)        (None, 224, 224, 64)      36928     \n",
      "_________________________________________________________________\n",
      "block1_pool (MaxPooling2D)   (None, 112, 112, 64)      0         \n",
      "_________________________________________________________________\n",
      "block2_conv1 (Conv2D)        (None, 112, 112, 128)     73856     \n",
      "_________________________________________________________________\n",
      "block2_conv2 (Conv2D)        (None, 112, 112, 128)     147584    \n",
      "_________________________________________________________________\n",
      "block2_pool (MaxPooling2D)   (None, 56, 56, 128)       0         \n",
      "_________________________________________________________________\n",
      "block3_conv1 (Conv2D)        (None, 56, 56, 256)       295168    \n",
      "_________________________________________________________________\n",
      "block3_conv2 (Conv2D)        (None, 56, 56, 256)       590080    \n",
      "_________________________________________________________________\n",
      "block3_conv3 (Conv2D)        (None, 56, 56, 256)       590080    \n",
      "_________________________________________________________________\n",
      "block3_pool (MaxPooling2D)   (None, 28, 28, 256)       0         \n",
      "_________________________________________________________________\n",
      "block4_conv1 (Conv2D)        (None, 28, 28, 512)       1180160   \n",
      "_________________________________________________________________\n",
      "block4_conv2 (Conv2D)        (None, 28, 28, 512)       2359808   \n",
      "_________________________________________________________________\n",
      "block4_conv3 (Conv2D)        (None, 28, 28, 512)       2359808   \n",
      "_________________________________________________________________\n",
      "block4_pool (MaxPooling2D)   (None, 14, 14, 512)       0         \n",
      "_________________________________________________________________\n",
      "block5_conv1 (Conv2D)        (None, 14, 14, 512)       2359808   \n",
      "_________________________________________________________________\n",
      "block5_conv2 (Conv2D)        (None, 14, 14, 512)       2359808   \n",
      "_________________________________________________________________\n",
      "block5_conv3 (Conv2D)        (None, 14, 14, 512)       2359808   \n",
      "_________________________________________________________________\n",
      "block5_pool (MaxPooling2D)   (None, 7, 7, 512)         0         \n",
      "_________________________________________________________________\n",
      "flatten (Flatten)            (None, 25088)             0         \n",
      "_________________________________________________________________\n",
      "fc1 (Dense)                  (None, 4096)              102764544 \n",
      "_________________________________________________________________\n",
      "fc2 (Dense)                  (None, 4096)              16781312  \n",
      "_________________________________________________________________\n",
      "predictions (Dense)          (None, 1000)              4097000   \n",
      "=================================================================\n",
      "Total params: 138,357,544\n",
      "Trainable params: 138,357,544\n",
      "Non-trainable params: 0\n",
      "_________________________________________________________________\n"
     ]
    }
   ],
   "source": [
    "image_model.summary()"
   ]
  },
  {
   "cell_type": "code",
   "execution_count": 10,
   "metadata": {},
   "outputs": [],
   "source": [
    "transfer_layer = image_model.get_layer('fc2')"
   ]
  },
  {
   "cell_type": "code",
   "execution_count": 11,
   "metadata": {},
   "outputs": [],
   "source": [
    "image_model_transfer = Model(inputs=image_model.input,\n",
    "                             outputs=transfer_layer.output)"
   ]
  },
  {
   "cell_type": "code",
   "execution_count": 12,
   "metadata": {},
   "outputs": [
    {
     "data": {
      "text/plain": [
       "(224, 224)"
      ]
     },
     "execution_count": 12,
     "metadata": {},
     "output_type": "execute_result"
    }
   ],
   "source": [
    "img_size = K.int_shape(image_model.input)[1:3]\n",
    "img_size"
   ]
  },
  {
   "cell_type": "code",
   "execution_count": 13,
   "metadata": {},
   "outputs": [
    {
     "data": {
      "text/plain": [
       "4096"
      ]
     },
     "execution_count": 13,
     "metadata": {},
     "output_type": "execute_result"
    }
   ],
   "source": [
    "transfer_values_size = K.int_shape(transfer_layer.output)[1]\n",
    "transfer_values_size"
   ]
  },
  {
   "cell_type": "markdown",
   "metadata": {},
   "source": [
    "#### Process All Images"
   ]
  },
  {
   "cell_type": "code",
   "execution_count": 14,
   "metadata": {},
   "outputs": [],
   "source": [
    "from PIL import ImageFile\n",
    "ImageFile.LOAD_TRUNCATED_IMAGES = True"
   ]
  },
  {
   "cell_type": "code",
   "execution_count": 15,
   "metadata": {},
   "outputs": [],
   "source": [
    "def print_progress(count, max_count):\n",
    "    # Percentage completion.\n",
    "    pct_complete = count / max_count\n",
    "\n",
    "    # Status-message. Note the \\r which means the line should\n",
    "    # overwrite itself.\n",
    "    msg = \"\\r- Progress: {0:.1%} {1}/{2}\".format(pct_complete, count, max_count)\n",
    "\n",
    "    # Print it.\n",
    "    sys.stdout.write(msg)\n",
    "    sys.stdout.flush()"
   ]
  },
  {
   "cell_type": "code",
   "execution_count": 16,
   "metadata": {},
   "outputs": [],
   "source": [
    "def load_image(path, size=None):\n",
    "    \"\"\"\n",
    "    Load the image from the given file-path and resize it\n",
    "    to the given size if not None.\n",
    "    \"\"\"\n",
    "\n",
    "    # Load the image using PIL.\n",
    "    img = Image.open(path).convert('RGB')\n",
    "\n",
    "    # Resize image if desired.\n",
    "    if not size is None:\n",
    "        img = img.resize(size=size, resample=Image.LANCZOS)\n",
    "\n",
    "    # Convert image to numpy array.\n",
    "    img = np.array(img)\n",
    "\n",
    "    # Scale image-pixels so they fall between 0.0 and 1.0\n",
    "    img = img / 255.0\n",
    "\n",
    "    # Convert 2-dim gray-scale array to 3-dim RGB array.\n",
    "    if (len(img.shape) == 2):\n",
    "        img = np.repeat(img[:, :, np.newaxis], 3, axis=2)\n",
    "\n",
    "    return img"
   ]
  },
  {
   "cell_type": "code",
   "execution_count": 17,
   "metadata": {},
   "outputs": [],
   "source": [
    "def process_images(data_dir, filenames, batch_size=32):\n",
    "    \"\"\"\n",
    "    Process all the given files in the given data_dir using the\n",
    "    pre-trained image-model and return their transfer-values.\n",
    "    \n",
    "    Note that we process the images in batches to save\n",
    "    memory and improve efficiency on the GPU.\n",
    "    \"\"\"\n",
    "        \n",
    "    # Number of images to process.\n",
    "    num_images = len(filenames)\n",
    "\n",
    "    # Pre-allocate input-batch-array for images.\n",
    "    shape = (batch_size,) + img_size + (3,)\n",
    "    image_batch = np.zeros(shape=shape, dtype=np.float16)\n",
    "\n",
    "    # Pre-allocate output-array for transfer-values.\n",
    "    # Note that we use 16-bit floating-points to save memory.\n",
    "    shape = (num_images, transfer_values_size)\n",
    "    transfer_values = np.zeros(shape=shape, dtype=np.float16)\n",
    "\n",
    "    # Initialize index into the filenames.\n",
    "    start_index = 0\n",
    "\n",
    "    # Process batches of image-files.\n",
    "    while start_index < num_images:\n",
    "        # Print the percentage-progress.\n",
    "        print_progress(count=start_index, max_count=num_images)\n",
    "\n",
    "        # End-index for this batch.\n",
    "        end_index = start_index + batch_size\n",
    "\n",
    "        # Ensure end-index is within bounds.\n",
    "        if end_index > num_images:\n",
    "            end_index = num_images\n",
    "\n",
    "        # The last batch may have a different batch-size.\n",
    "        current_batch_size = end_index - start_index\n",
    "\n",
    "        # Load all the images in the batch.\n",
    "        for i, filename in enumerate(filenames[start_index:end_index]):\n",
    "            # Path for the image-file.\n",
    "            path = os.path.join(data_dir, filename)\n",
    "\n",
    "            #try: \n",
    "            # Load and resize the image.\n",
    "            # This returns the image as a numpy-array.\n",
    "            img = load_image(path, size=img_size)\n",
    "\n",
    "            # Save the image for later use.\n",
    "            image_batch[i] = img\n",
    "            #except: \n",
    "            # print(f\"\\nFaulty image: {i, filename}\")\n",
    "            # removal_list.append(filename)\n",
    "            # os.remove(filename)\n",
    "            # faulty_imgs.append(filename)\n",
    "\n",
    "        # Use the pre-trained image-model to process the image.\n",
    "        # Note that the last batch may have a different size,\n",
    "        # so we only use the relevant images.\n",
    "        transfer_values_batch = \\\n",
    "            image_model_transfer.predict(image_batch[0:current_batch_size])\n",
    "\n",
    "        # Save the transfer-values in the pre-allocated array.\n",
    "        transfer_values[start_index:end_index] = \\\n",
    "            transfer_values_batch[0:current_batch_size]\n",
    "\n",
    "        # Increase the index for the next loop-iteration.\n",
    "        start_index = end_index\n",
    "\n",
    "    \n",
    "    #import pickle\n",
    "    #removal_list_file = \"to_remove.pkl\"\n",
    "    #with open(removal_list_file, 'wb') as f:\n",
    "    #    pickle.dump(removal_list, f)\n",
    "    \n",
    "    # Print newline.\n",
    "    print()\n",
    "\n",
    "    return transfer_values"
   ]
  },
  {
   "cell_type": "code",
   "execution_count": 18,
   "metadata": {},
   "outputs": [],
   "source": [
    "def process_images_train(filenames_array, output_fn):\n",
    "    print(\"Processing {0} images in training-set ...\".format(len(filenames_array)))\n",
    "\n",
    "    # Path for the cache-file.\n",
    "    cache_path = os.path.join(DATA_OUTPUT_DIR,\n",
    "                              f\"transfer_values_{output_fn}.pkl\")\n",
    "\n",
    "    # If the cache-file already exists then reload it,\n",
    "    # otherwise process all images and save their transfer-values\n",
    "    # to the cache-file so it can be reloaded quickly.\n",
    "    transfer_values = cache(cache_path=cache_path,\n",
    "                            fn=process_images,\n",
    "                            data_dir=IMAGE_DIR,\n",
    "                            filenames=filenames_array)\n",
    "\n",
    "    return transfer_values"
   ]
  },
  {
   "cell_type": "markdown",
   "metadata": {},
   "source": [
    "***"
   ]
  },
  {
   "cell_type": "markdown",
   "metadata": {},
   "source": [
    "## Augmentation"
   ]
  },
  {
   "cell_type": "code",
   "execution_count": null,
   "metadata": {},
   "outputs": [],
   "source": []
  },
  {
   "cell_type": "markdown",
   "metadata": {},
   "source": [
    "# Tokenization"
   ]
  },
  {
   "cell_type": "markdown",
   "metadata": {},
   "source": [
    "***"
   ]
  },
  {
   "cell_type": "markdown",
   "metadata": {},
   "source": [
    "***"
   ]
  },
  {
   "cell_type": "code",
   "execution_count": 19,
   "metadata": {},
   "outputs": [
    {
     "data": {
      "text/html": [
       "<div>\n",
       "<style scoped>\n",
       "    .dataframe tbody tr th:only-of-type {\n",
       "        vertical-align: middle;\n",
       "    }\n",
       "\n",
       "    .dataframe tbody tr th {\n",
       "        vertical-align: top;\n",
       "    }\n",
       "\n",
       "    .dataframe thead th {\n",
       "        text-align: right;\n",
       "    }\n",
       "</style>\n",
       "<table border=\"1\" class=\"dataframe\">\n",
       "  <thead>\n",
       "    <tr style=\"text-align: right;\">\n",
       "      <th></th>\n",
       "      <th>XMin1</th>\n",
       "      <th>XMax1</th>\n",
       "      <th>YMin1</th>\n",
       "      <th>YMax1</th>\n",
       "      <th>XMin2</th>\n",
       "      <th>XMax2</th>\n",
       "      <th>YMin2</th>\n",
       "      <th>YMax2</th>\n",
       "    </tr>\n",
       "  </thead>\n",
       "  <tbody>\n",
       "    <tr>\n",
       "      <th>count</th>\n",
       "      <td>374768.000000</td>\n",
       "      <td>374768.000000</td>\n",
       "      <td>374768.000000</td>\n",
       "      <td>374768.000000</td>\n",
       "      <td>374768.000000</td>\n",
       "      <td>374768.000000</td>\n",
       "      <td>374768.000000</td>\n",
       "      <td>374768.000000</td>\n",
       "    </tr>\n",
       "    <tr>\n",
       "      <th>mean</th>\n",
       "      <td>0.373899</td>\n",
       "      <td>0.624713</td>\n",
       "      <td>0.426304</td>\n",
       "      <td>0.785764</td>\n",
       "      <td>0.333565</td>\n",
       "      <td>0.666269</td>\n",
       "      <td>0.500565</td>\n",
       "      <td>0.807825</td>\n",
       "    </tr>\n",
       "    <tr>\n",
       "      <th>std</th>\n",
       "      <td>0.267712</td>\n",
       "      <td>0.267785</td>\n",
       "      <td>0.219537</td>\n",
       "      <td>0.206131</td>\n",
       "      <td>0.264643</td>\n",
       "      <td>0.265483</td>\n",
       "      <td>0.197521</td>\n",
       "      <td>0.203616</td>\n",
       "    </tr>\n",
       "    <tr>\n",
       "      <th>min</th>\n",
       "      <td>0.000000</td>\n",
       "      <td>0.002930</td>\n",
       "      <td>0.000000</td>\n",
       "      <td>0.013542</td>\n",
       "      <td>0.000000</td>\n",
       "      <td>0.002930</td>\n",
       "      <td>0.000000</td>\n",
       "      <td>0.013542</td>\n",
       "    </tr>\n",
       "    <tr>\n",
       "      <th>25%</th>\n",
       "      <td>0.136875</td>\n",
       "      <td>0.409944</td>\n",
       "      <td>0.262500</td>\n",
       "      <td>0.642222</td>\n",
       "      <td>0.097000</td>\n",
       "      <td>0.462313</td>\n",
       "      <td>0.388980</td>\n",
       "      <td>0.670732</td>\n",
       "    </tr>\n",
       "    <tr>\n",
       "      <th>50%</th>\n",
       "      <td>0.355000</td>\n",
       "      <td>0.642500</td>\n",
       "      <td>0.442653</td>\n",
       "      <td>0.830833</td>\n",
       "      <td>0.295625</td>\n",
       "      <td>0.704102</td>\n",
       "      <td>0.522222</td>\n",
       "      <td>0.872045</td>\n",
       "    </tr>\n",
       "    <tr>\n",
       "      <th>75%</th>\n",
       "      <td>0.588750</td>\n",
       "      <td>0.861875</td>\n",
       "      <td>0.589286</td>\n",
       "      <td>0.983333</td>\n",
       "      <td>0.534729</td>\n",
       "      <td>0.905582</td>\n",
       "      <td>0.636023</td>\n",
       "      <td>0.995028</td>\n",
       "    </tr>\n",
       "    <tr>\n",
       "      <th>max</th>\n",
       "      <td>0.999375</td>\n",
       "      <td>2.055000</td>\n",
       "      <td>0.996248</td>\n",
       "      <td>1.196667</td>\n",
       "      <td>0.999375</td>\n",
       "      <td>2.055000</td>\n",
       "      <td>0.996248</td>\n",
       "      <td>1.196667</td>\n",
       "    </tr>\n",
       "  </tbody>\n",
       "</table>\n",
       "</div>"
      ],
      "text/plain": [
       "               XMin1          XMax1          YMin1          YMax1  \\\n",
       "count  374768.000000  374768.000000  374768.000000  374768.000000   \n",
       "mean        0.373899       0.624713       0.426304       0.785764   \n",
       "std         0.267712       0.267785       0.219537       0.206131   \n",
       "min         0.000000       0.002930       0.000000       0.013542   \n",
       "25%         0.136875       0.409944       0.262500       0.642222   \n",
       "50%         0.355000       0.642500       0.442653       0.830833   \n",
       "75%         0.588750       0.861875       0.589286       0.983333   \n",
       "max         0.999375       2.055000       0.996248       1.196667   \n",
       "\n",
       "               XMin2          XMax2          YMin2          YMax2  \n",
       "count  374768.000000  374768.000000  374768.000000  374768.000000  \n",
       "mean        0.333565       0.666269       0.500565       0.807825  \n",
       "std         0.264643       0.265483       0.197521       0.203616  \n",
       "min         0.000000       0.002930       0.000000       0.013542  \n",
       "25%         0.097000       0.462313       0.388980       0.670732  \n",
       "50%         0.295625       0.704102       0.522222       0.872045  \n",
       "75%         0.534729       0.905582       0.636023       0.995028  \n",
       "max         0.999375       2.055000       0.996248       1.196667  "
      ]
     },
     "execution_count": 19,
     "metadata": {},
     "output_type": "execute_result"
    }
   ],
   "source": [
    "all_relationships_file = os.path.join(IMAGENET_DATA_DIR, \"challenge-2019-train-vrd.csv\")\n",
    "all_relationships = pd.read_csv(all_relationships_file)\n",
    "all_relationships.describe()"
   ]
  },
  {
   "cell_type": "code",
   "execution_count": 20,
   "metadata": {},
   "outputs": [
    {
     "data": {
      "text/html": [
       "<div>\n",
       "<style scoped>\n",
       "    .dataframe tbody tr th:only-of-type {\n",
       "        vertical-align: middle;\n",
       "    }\n",
       "\n",
       "    .dataframe tbody tr th {\n",
       "        vertical-align: top;\n",
       "    }\n",
       "\n",
       "    .dataframe thead th {\n",
       "        text-align: right;\n",
       "    }\n",
       "</style>\n",
       "<table border=\"1\" class=\"dataframe\">\n",
       "  <thead>\n",
       "    <tr style=\"text-align: right;\">\n",
       "      <th></th>\n",
       "      <th>LabelName1</th>\n",
       "      <th>LabelName2</th>\n",
       "      <th>RelationshipLabel</th>\n",
       "    </tr>\n",
       "  </thead>\n",
       "  <tbody>\n",
       "    <tr>\n",
       "      <th>count</th>\n",
       "      <td>329</td>\n",
       "      <td>329</td>\n",
       "      <td>329</td>\n",
       "    </tr>\n",
       "    <tr>\n",
       "      <th>unique</th>\n",
       "      <td>32</td>\n",
       "      <td>58</td>\n",
       "      <td>10</td>\n",
       "    </tr>\n",
       "    <tr>\n",
       "      <th>top</th>\n",
       "      <td>/m/04yx4</td>\n",
       "      <td>/m/04bcr3</td>\n",
       "      <td>holds</td>\n",
       "    </tr>\n",
       "    <tr>\n",
       "      <th>freq</th>\n",
       "      <td>63</td>\n",
       "      <td>18</td>\n",
       "      <td>108</td>\n",
       "    </tr>\n",
       "  </tbody>\n",
       "</table>\n",
       "</div>"
      ],
      "text/plain": [
       "       LabelName1 LabelName2 RelationshipLabel\n",
       "count         329        329               329\n",
       "unique         32         58                10\n",
       "top      /m/04yx4  /m/04bcr3             holds\n",
       "freq           63         18               108"
      ]
     },
     "execution_count": 20,
     "metadata": {},
     "output_type": "execute_result"
    }
   ],
   "source": [
    "rel_definition_file = os.path.join(IMAGENET_DATA_DIR, \"challenge-2019-relationship-triplets.csv\")\n",
    "rel_definition = pd.read_csv(rel_definition_file)\n",
    "rel_definition.describe()"
   ]
  },
  {
   "cell_type": "code",
   "execution_count": 21,
   "metadata": {},
   "outputs": [
    {
     "data": {
      "text/plain": [
       "ab4f5a8a2f533316    474\n",
       "bca2e0ee12378c67    168\n",
       "27bb93c740ae1fe3    145\n",
       "640a5f71e5aed9e8    145\n",
       "05b0aefc92880a6c    138\n",
       "                   ... \n",
       "268d7cdbc7228b6e      1\n",
       "c83a382892de4c4a      1\n",
       "f8b23a503b546c3f      1\n",
       "109bb9c88ff4a630      1\n",
       "03dab6a535c69db8      1\n",
       "Name: ImageID, Length: 100522, dtype: int64"
      ]
     },
     "execution_count": 21,
     "metadata": {},
     "output_type": "execute_result"
    }
   ],
   "source": [
    "rel_counts = all_relationships.ImageID.value_counts()\n",
    "rel_counts"
   ]
  },
  {
   "cell_type": "markdown",
   "metadata": {},
   "source": [
    "## Remove is relations:----"
   ]
  },
  {
   "cell_type": "code",
   "execution_count": 22,
   "metadata": {},
   "outputs": [
    {
     "data": {
      "text/plain": [
       "180626"
      ]
     },
     "execution_count": 22,
     "metadata": {},
     "output_type": "execute_result"
    }
   ],
   "source": [
    "# Do not use 'is' relationships\n",
    "all_relationships_non_is = all_relationships[all_relationships.RelationshipLabel != \"is\"]\n",
    "len(all_relationships_non_is)"
   ]
  },
  {
   "cell_type": "code",
   "execution_count": 23,
   "metadata": {},
   "outputs": [
    {
     "data": {
      "text/plain": [
       "57187"
      ]
     },
     "execution_count": 23,
     "metadata": {},
     "output_type": "execute_result"
    }
   ],
   "source": [
    "images_w_relationships = all_relationships_non_is.ImageID.unique()\n",
    "len(images_w_relationships)"
   ]
  },
  {
   "cell_type": "code",
   "execution_count": 24,
   "metadata": {},
   "outputs": [
    {
     "data": {
      "text/plain": [
       "57187"
      ]
     },
     "execution_count": 24,
     "metadata": {},
     "output_type": "execute_result"
    }
   ],
   "source": [
    "images_w_relationships_paths = [os.path.join(IMAGE_DIR_REL, (f + '.jpg')) for f in images_w_relationships]\n",
    "len(images_w_relationships_paths)"
   ]
  },
  {
   "cell_type": "code",
   "execution_count": 25,
   "metadata": {},
   "outputs": [
    {
     "data": {
      "text/plain": [
       "20000"
      ]
     },
     "execution_count": 25,
     "metadata": {},
     "output_type": "execute_result"
    }
   ],
   "source": [
    "filenames_trainz = images_w_relationships_paths[:20000]\n",
    "len(filenames_trainz)"
   ]
  },
  {
   "cell_type": "code",
   "execution_count": null,
   "metadata": {},
   "outputs": [],
   "source": []
  },
  {
   "cell_type": "code",
   "execution_count": 26,
   "metadata": {},
   "outputs": [],
   "source": [
    "imageIDs_trainz = images_w_relationships"
   ]
  },
  {
   "cell_type": "code",
   "execution_count": 27,
   "metadata": {},
   "outputs": [],
   "source": [
    "# Some images don't work\n",
    "# imageIDs_trainz = imageIDs_trainz[imageIDs_trainz!=(\"5f07cc69123be854\")]"
   ]
  },
  {
   "cell_type": "code",
   "execution_count": 28,
   "metadata": {},
   "outputs": [
    {
     "data": {
      "text/plain": [
       "57187"
      ]
     },
     "execution_count": 28,
     "metadata": {},
     "output_type": "execute_result"
    }
   ],
   "source": [
    "filenames_trainz = [os.path.join(IMAGE_DIR_REL, (f + '.jpg')) for f in imageIDs_trainz]\n",
    "len(filenames_trainz)"
   ]
  },
  {
   "cell_type": "markdown",
   "metadata": {},
   "source": [
    "***"
   ]
  },
  {
   "cell_type": "code",
   "execution_count": 29,
   "metadata": {},
   "outputs": [
    {
     "name": "stdout",
     "output_type": "stream",
     "text": [
      "Processing 57187 images in training-set ...\n",
      "- Progress: 100.0% 57184/57187\n",
      "- Data saved to cache-file: D:\\data\\VRNet\\transfer_values_trainz.pkl\n",
      "dtype: float16\n",
      "shape: (57187, 4096)\n",
      "Wall time: 1h 9min 13s\n"
     ]
    }
   ],
   "source": [
    "%%time\n",
    "transfer_values_train = process_images_train(filenames_trainz, \"trainz\")\n",
    "print(\"dtype:\", transfer_values_train.dtype)\n",
    "print(\"shape:\", transfer_values_train.shape)"
   ]
  },
  {
   "cell_type": "code",
   "execution_count": 30,
   "metadata": {},
   "outputs": [
    {
     "data": {
      "text/plain": [
       "180626"
      ]
     },
     "execution_count": 30,
     "metadata": {},
     "output_type": "execute_result"
    }
   ],
   "source": [
    "# Get training relationships\n",
    "trainz_relationships = all_relationships_non_is[all_relationships_non_is.ImageID.isin(imageIDs_trainz)]\n",
    "len(trainz_relationships)"
   ]
  },
  {
   "cell_type": "markdown",
   "metadata": {},
   "source": [
    "***"
   ]
  },
  {
   "cell_type": "markdown",
   "metadata": {},
   "source": [
    "# TOkenizerr"
   ]
  },
  {
   "cell_type": "code",
   "execution_count": null,
   "metadata": {},
   "outputs": [],
   "source": []
  },
  {
   "cell_type": "markdown",
   "metadata": {},
   "source": [
    "### class dictionary"
   ]
  },
  {
   "cell_type": "code",
   "execution_count": 33,
   "metadata": {},
   "outputs": [],
   "source": [
    "import csv\n",
    "class_dict = {}\n",
    "reader = csv.reader(open(os.path.join(IMAGENET_DATA_DIR, \"challenge-2019-classes-vrd.csv\")))\n",
    "for row in reader:\n",
    "    k, v = row\n",
    "    class_dict[k] = v.replace(' ', '').replace('(', '').replace(')', '').lower()\n",
    "\n",
    "reader = csv.reader(open(os.path.join(IMAGENET_DATA_DIR, \"challenge-2019-attributes-description.csv\")))\n",
    "for row in reader:\n",
    "    k, v = row\n",
    "    class_dict[k] = v.replace(' ', '').replace('(', '').replace(')', '').lower()"
   ]
  },
  {
   "cell_type": "code",
   "execution_count": 34,
   "metadata": {},
   "outputs": [],
   "source": [
    "trainz_relationships['LabelClass1'] = trainz_relationships.LabelName1.apply(lambda x: class_dict[x])\n",
    "trainz_relationships['LabelClass2'] = trainz_relationships.LabelName2.apply(lambda x: class_dict[x])"
   ]
  },
  {
   "cell_type": "code",
   "execution_count": 35,
   "metadata": {},
   "outputs": [
    {
     "data": {
      "text/html": [
       "<div>\n",
       "<style scoped>\n",
       "    .dataframe tbody tr th:only-of-type {\n",
       "        vertical-align: middle;\n",
       "    }\n",
       "\n",
       "    .dataframe tbody tr th {\n",
       "        vertical-align: top;\n",
       "    }\n",
       "\n",
       "    .dataframe thead th {\n",
       "        text-align: right;\n",
       "    }\n",
       "</style>\n",
       "<table border=\"1\" class=\"dataframe\">\n",
       "  <thead>\n",
       "    <tr style=\"text-align: right;\">\n",
       "      <th></th>\n",
       "      <th>ImageID</th>\n",
       "      <th>LabelName1</th>\n",
       "      <th>LabelName2</th>\n",
       "      <th>XMin1</th>\n",
       "      <th>XMax1</th>\n",
       "      <th>YMin1</th>\n",
       "      <th>YMax1</th>\n",
       "      <th>XMin2</th>\n",
       "      <th>XMax2</th>\n",
       "      <th>YMin2</th>\n",
       "      <th>YMax2</th>\n",
       "      <th>RelationshipLabel</th>\n",
       "      <th>LabelClass1</th>\n",
       "      <th>LabelClass2</th>\n",
       "    </tr>\n",
       "  </thead>\n",
       "  <tbody>\n",
       "    <tr>\n",
       "      <th>3</th>\n",
       "      <td>4b6a08cc110d7275</td>\n",
       "      <td>/m/01mzpv</td>\n",
       "      <td>/m/01y9k5</td>\n",
       "      <td>0.171250</td>\n",
       "      <td>0.255625</td>\n",
       "      <td>0.557500</td>\n",
       "      <td>0.749167</td>\n",
       "      <td>0.20750</td>\n",
       "      <td>0.683125</td>\n",
       "      <td>0.611667</td>\n",
       "      <td>0.999167</td>\n",
       "      <td>at</td>\n",
       "      <td>chair</td>\n",
       "      <td>desk</td>\n",
       "    </tr>\n",
       "    <tr>\n",
       "      <th>4</th>\n",
       "      <td>0144cfbb726f4c72</td>\n",
       "      <td>/m/01mzpv</td>\n",
       "      <td>/m/04bcr3</td>\n",
       "      <td>0.855000</td>\n",
       "      <td>0.950000</td>\n",
       "      <td>0.561667</td>\n",
       "      <td>0.609167</td>\n",
       "      <td>0.82875</td>\n",
       "      <td>0.999375</td>\n",
       "      <td>0.568333</td>\n",
       "      <td>0.673333</td>\n",
       "      <td>at</td>\n",
       "      <td>chair</td>\n",
       "      <td>table</td>\n",
       "    </tr>\n",
       "    <tr>\n",
       "      <th>5</th>\n",
       "      <td>03b5764a5c600aa4</td>\n",
       "      <td>/m/04yx4</td>\n",
       "      <td>/m/0199g</td>\n",
       "      <td>0.114068</td>\n",
       "      <td>0.205323</td>\n",
       "      <td>0.334375</td>\n",
       "      <td>0.453750</td>\n",
       "      <td>0.13308</td>\n",
       "      <td>0.200570</td>\n",
       "      <td>0.383750</td>\n",
       "      <td>0.465625</td>\n",
       "      <td>on</td>\n",
       "      <td>man</td>\n",
       "      <td>bicycle</td>\n",
       "    </tr>\n",
       "    <tr>\n",
       "      <th>6</th>\n",
       "      <td>d18adac47a838d35</td>\n",
       "      <td>/m/03bt1vf</td>\n",
       "      <td>/m/04bcr3</td>\n",
       "      <td>0.531875</td>\n",
       "      <td>0.597500</td>\n",
       "      <td>0.054409</td>\n",
       "      <td>0.196060</td>\n",
       "      <td>0.00000</td>\n",
       "      <td>0.999375</td>\n",
       "      <td>0.147280</td>\n",
       "      <td>0.447467</td>\n",
       "      <td>at</td>\n",
       "      <td>woman</td>\n",
       "      <td>table</td>\n",
       "    </tr>\n",
       "    <tr>\n",
       "      <th>7</th>\n",
       "      <td>487e3f4413229d30</td>\n",
       "      <td>/m/04yx4</td>\n",
       "      <td>/m/04bcr3</td>\n",
       "      <td>0.281250</td>\n",
       "      <td>0.706875</td>\n",
       "      <td>0.103578</td>\n",
       "      <td>0.780603</td>\n",
       "      <td>0.00000</td>\n",
       "      <td>0.999375</td>\n",
       "      <td>0.731638</td>\n",
       "      <td>0.999058</td>\n",
       "      <td>at</td>\n",
       "      <td>man</td>\n",
       "      <td>table</td>\n",
       "    </tr>\n",
       "  </tbody>\n",
       "</table>\n",
       "</div>"
      ],
      "text/plain": [
       "            ImageID  LabelName1 LabelName2     XMin1     XMax1     YMin1  \\\n",
       "3  4b6a08cc110d7275   /m/01mzpv  /m/01y9k5  0.171250  0.255625  0.557500   \n",
       "4  0144cfbb726f4c72   /m/01mzpv  /m/04bcr3  0.855000  0.950000  0.561667   \n",
       "5  03b5764a5c600aa4    /m/04yx4   /m/0199g  0.114068  0.205323  0.334375   \n",
       "6  d18adac47a838d35  /m/03bt1vf  /m/04bcr3  0.531875  0.597500  0.054409   \n",
       "7  487e3f4413229d30    /m/04yx4  /m/04bcr3  0.281250  0.706875  0.103578   \n",
       "\n",
       "      YMax1    XMin2     XMax2     YMin2     YMax2 RelationshipLabel  \\\n",
       "3  0.749167  0.20750  0.683125  0.611667  0.999167                at   \n",
       "4  0.609167  0.82875  0.999375  0.568333  0.673333                at   \n",
       "5  0.453750  0.13308  0.200570  0.383750  0.465625                on   \n",
       "6  0.196060  0.00000  0.999375  0.147280  0.447467                at   \n",
       "7  0.780603  0.00000  0.999375  0.731638  0.999058                at   \n",
       "\n",
       "  LabelClass1 LabelClass2  \n",
       "3       chair        desk  \n",
       "4       chair       table  \n",
       "5         man     bicycle  \n",
       "6       woman       table  \n",
       "7         man       table  "
      ]
     },
     "execution_count": 35,
     "metadata": {},
     "output_type": "execute_result"
    }
   ],
   "source": [
    "trainz_relationships.head()"
   ]
  },
  {
   "cell_type": "code",
   "execution_count": null,
   "metadata": {},
   "outputs": [],
   "source": []
  },
  {
   "cell_type": "markdown",
   "metadata": {},
   "source": [
    "***"
   ]
  },
  {
   "cell_type": "code",
   "execution_count": null,
   "metadata": {},
   "outputs": [],
   "source": []
  },
  {
   "cell_type": "code",
   "execution_count": 36,
   "metadata": {},
   "outputs": [
    {
     "name": "stdout",
     "output_type": "stream",
     "text": [
      "- Progress: 100.0% 57186/57187Wall time: 18min 45s\n"
     ]
    },
    {
     "data": {
      "text/plain": [
       "57187"
      ]
     },
     "execution_count": 36,
     "metadata": {},
     "output_type": "execute_result"
    }
   ],
   "source": [
    "%%time\n",
    "trainz_relationship_list = []\n",
    "\n",
    "i = 0\n",
    "for iid in imageIDs_trainz:\n",
    "    print_progress(i, len(imageIDs_trainz))\n",
    "    trainz_relationship_list.append(trainz_relationships.loc[trainz_relationships.ImageID == iid, \\\n",
    "                                                             [\"LabelClass1\", \"LabelClass2\", \"RelationshipLabel\"]].values)\n",
    "    i = i+1\n",
    "len(trainz_relationship_list)"
   ]
  },
  {
   "cell_type": "raw",
   "metadata": {},
   "source": [
    "def get_relationship_triplet_list():\n",
    "\n",
    "    trainz_relationship_list = []\n",
    "    i = 0\n",
    "    for iid in imageIDs_trainz:\n",
    "        print_progress(i, len(imageIDs_trainz))\n",
    "        trainz_relationship_list.append(trainz_relationships.loc[trainz_relationships.ImageID == iid, \\\n",
    "                                                                 [\"LabelClass1\", \"LabelClass2\", \"RelationshipLabel\"]].values)\n",
    "        i = i+1\n",
    "    return trainz_relationship_list"
   ]
  },
  {
   "cell_type": "raw",
   "metadata": {},
   "source": [
    "%%time\n",
    "cache_path = os.path.join(DATA_OUTPUT_DIR,\n",
    "                              \"trainz_relationship_list.pkl\")\n",
    "\n",
    "trainz_relationship_list = cache(cache_path=cache_path,\n",
    "                        fn=get_relationship_triplet_list)\n",
    "\n",
    "len(trainz_relationship_list)"
   ]
  },
  {
   "cell_type": "code",
   "execution_count": 37,
   "metadata": {},
   "outputs": [
    {
     "data": {
      "text/html": [
       "<div>\n",
       "<style scoped>\n",
       "    .dataframe tbody tr th:only-of-type {\n",
       "        vertical-align: middle;\n",
       "    }\n",
       "\n",
       "    .dataframe tbody tr th {\n",
       "        vertical-align: top;\n",
       "    }\n",
       "\n",
       "    .dataframe thead th {\n",
       "        text-align: right;\n",
       "    }\n",
       "</style>\n",
       "<table border=\"1\" class=\"dataframe\">\n",
       "  <thead>\n",
       "    <tr style=\"text-align: right;\">\n",
       "      <th></th>\n",
       "      <th>ImageID</th>\n",
       "      <th>LabelName1</th>\n",
       "      <th>LabelName2</th>\n",
       "      <th>XMin1</th>\n",
       "      <th>XMax1</th>\n",
       "      <th>YMin1</th>\n",
       "      <th>YMax1</th>\n",
       "      <th>XMin2</th>\n",
       "      <th>XMax2</th>\n",
       "      <th>YMin2</th>\n",
       "      <th>YMax2</th>\n",
       "      <th>RelationshipLabel</th>\n",
       "      <th>LabelClass1</th>\n",
       "      <th>LabelClass2</th>\n",
       "    </tr>\n",
       "  </thead>\n",
       "  <tbody>\n",
       "    <tr>\n",
       "      <th>3</th>\n",
       "      <td>4b6a08cc110d7275</td>\n",
       "      <td>/m/01mzpv</td>\n",
       "      <td>/m/01y9k5</td>\n",
       "      <td>0.171250</td>\n",
       "      <td>0.255625</td>\n",
       "      <td>0.557500</td>\n",
       "      <td>0.749167</td>\n",
       "      <td>0.20750</td>\n",
       "      <td>0.683125</td>\n",
       "      <td>0.611667</td>\n",
       "      <td>0.999167</td>\n",
       "      <td>at</td>\n",
       "      <td>chair</td>\n",
       "      <td>desk</td>\n",
       "    </tr>\n",
       "    <tr>\n",
       "      <th>4</th>\n",
       "      <td>0144cfbb726f4c72</td>\n",
       "      <td>/m/01mzpv</td>\n",
       "      <td>/m/04bcr3</td>\n",
       "      <td>0.855000</td>\n",
       "      <td>0.950000</td>\n",
       "      <td>0.561667</td>\n",
       "      <td>0.609167</td>\n",
       "      <td>0.82875</td>\n",
       "      <td>0.999375</td>\n",
       "      <td>0.568333</td>\n",
       "      <td>0.673333</td>\n",
       "      <td>at</td>\n",
       "      <td>chair</td>\n",
       "      <td>table</td>\n",
       "    </tr>\n",
       "    <tr>\n",
       "      <th>5</th>\n",
       "      <td>03b5764a5c600aa4</td>\n",
       "      <td>/m/04yx4</td>\n",
       "      <td>/m/0199g</td>\n",
       "      <td>0.114068</td>\n",
       "      <td>0.205323</td>\n",
       "      <td>0.334375</td>\n",
       "      <td>0.453750</td>\n",
       "      <td>0.13308</td>\n",
       "      <td>0.200570</td>\n",
       "      <td>0.383750</td>\n",
       "      <td>0.465625</td>\n",
       "      <td>on</td>\n",
       "      <td>man</td>\n",
       "      <td>bicycle</td>\n",
       "    </tr>\n",
       "    <tr>\n",
       "      <th>6</th>\n",
       "      <td>d18adac47a838d35</td>\n",
       "      <td>/m/03bt1vf</td>\n",
       "      <td>/m/04bcr3</td>\n",
       "      <td>0.531875</td>\n",
       "      <td>0.597500</td>\n",
       "      <td>0.054409</td>\n",
       "      <td>0.196060</td>\n",
       "      <td>0.00000</td>\n",
       "      <td>0.999375</td>\n",
       "      <td>0.147280</td>\n",
       "      <td>0.447467</td>\n",
       "      <td>at</td>\n",
       "      <td>woman</td>\n",
       "      <td>table</td>\n",
       "    </tr>\n",
       "    <tr>\n",
       "      <th>7</th>\n",
       "      <td>487e3f4413229d30</td>\n",
       "      <td>/m/04yx4</td>\n",
       "      <td>/m/04bcr3</td>\n",
       "      <td>0.281250</td>\n",
       "      <td>0.706875</td>\n",
       "      <td>0.103578</td>\n",
       "      <td>0.780603</td>\n",
       "      <td>0.00000</td>\n",
       "      <td>0.999375</td>\n",
       "      <td>0.731638</td>\n",
       "      <td>0.999058</td>\n",
       "      <td>at</td>\n",
       "      <td>man</td>\n",
       "      <td>table</td>\n",
       "    </tr>\n",
       "  </tbody>\n",
       "</table>\n",
       "</div>"
      ],
      "text/plain": [
       "            ImageID  LabelName1 LabelName2     XMin1     XMax1     YMin1  \\\n",
       "3  4b6a08cc110d7275   /m/01mzpv  /m/01y9k5  0.171250  0.255625  0.557500   \n",
       "4  0144cfbb726f4c72   /m/01mzpv  /m/04bcr3  0.855000  0.950000  0.561667   \n",
       "5  03b5764a5c600aa4    /m/04yx4   /m/0199g  0.114068  0.205323  0.334375   \n",
       "6  d18adac47a838d35  /m/03bt1vf  /m/04bcr3  0.531875  0.597500  0.054409   \n",
       "7  487e3f4413229d30    /m/04yx4  /m/04bcr3  0.281250  0.706875  0.103578   \n",
       "\n",
       "      YMax1    XMin2     XMax2     YMin2     YMax2 RelationshipLabel  \\\n",
       "3  0.749167  0.20750  0.683125  0.611667  0.999167                at   \n",
       "4  0.609167  0.82875  0.999375  0.568333  0.673333                at   \n",
       "5  0.453750  0.13308  0.200570  0.383750  0.465625                on   \n",
       "6  0.196060  0.00000  0.999375  0.147280  0.447467                at   \n",
       "7  0.780603  0.00000  0.999375  0.731638  0.999058                at   \n",
       "\n",
       "  LabelClass1 LabelClass2  \n",
       "3       chair        desk  \n",
       "4       chair       table  \n",
       "5         man     bicycle  \n",
       "6       woman       table  \n",
       "7         man       table  "
      ]
     },
     "execution_count": 37,
     "metadata": {},
     "output_type": "execute_result"
    }
   ],
   "source": [
    "trainz_relationships.head()"
   ]
  },
  {
   "cell_type": "markdown",
   "metadata": {},
   "source": [
    "***"
   ]
  },
  {
   "cell_type": "markdown",
   "metadata": {},
   "source": [
    "### Start marker?"
   ]
  },
  {
   "cell_type": "code",
   "execution_count": 38,
   "metadata": {},
   "outputs": [],
   "source": [
    "mark_start = 'ss '"
   ]
  },
  {
   "cell_type": "code",
   "execution_count": 39,
   "metadata": {},
   "outputs": [],
   "source": [
    "trainz_relationship_list_joined = []\n",
    "for relations in trainz_relationship_list:\n",
    "    trainz_relationship_list_joined.append(list(set([' '.join(rel) for rel in relations])))"
   ]
  },
  {
   "cell_type": "code",
   "execution_count": 40,
   "metadata": {},
   "outputs": [],
   "source": [
    "trainz_relationship_list_joined_s = [[mark_start + relation \n",
    "                        for relation in relations_list]\n",
    "                        for relations_list in trainz_relationship_list_joined]"
   ]
  },
  {
   "cell_type": "code",
   "execution_count": 41,
   "metadata": {},
   "outputs": [
    {
     "data": {
      "text/plain": [
       "['ss man table at',\n",
       " 'ss chair desk at',\n",
       " 'ss chair table at',\n",
       " 'ss man chair on',\n",
       " 'ss man desk at']"
      ]
     },
     "execution_count": 41,
     "metadata": {},
     "output_type": "execute_result"
    }
   ],
   "source": [
    "trainz_relationship_list_joined_s[0]"
   ]
  },
  {
   "cell_type": "markdown",
   "metadata": {},
   "source": [
    "trainz_relationship_list_joined = [list(set([' '.join(rel) for rel in relations])) \n",
    "                                   for relations in trainz_relationship_list]"
   ]
  },
  {
   "cell_type": "code",
   "execution_count": 42,
   "metadata": {},
   "outputs": [
    {
     "data": {
      "text/plain": [
       "list"
      ]
     },
     "execution_count": 42,
     "metadata": {},
     "output_type": "execute_result"
    }
   ],
   "source": [
    "type(trainz_relationship_list_joined)"
   ]
  },
  {
   "cell_type": "code",
   "execution_count": 43,
   "metadata": {},
   "outputs": [],
   "source": [
    "def flatten(relations_listlist):\n",
    "    relations_list = [relation\n",
    "                     for relations_list in relations_listlist\n",
    "                     for relation in relations_list]\n",
    "    \n",
    "    return relations_list"
   ]
  },
  {
   "cell_type": "code",
   "execution_count": 44,
   "metadata": {},
   "outputs": [],
   "source": [
    "relations_train_flat = flatten(trainz_relationship_list_joined_s)"
   ]
  },
  {
   "cell_type": "code",
   "execution_count": 45,
   "metadata": {},
   "outputs": [
    {
     "data": {
      "text/plain": [
       "['man table at',\n",
       " 'chair desk at',\n",
       " 'chair table at',\n",
       " 'man chair on',\n",
       " 'man desk at']"
      ]
     },
     "execution_count": 45,
     "metadata": {},
     "output_type": "execute_result"
    }
   ],
   "source": [
    "trainz_relationship_list_joined[0]"
   ]
  },
  {
   "cell_type": "code",
   "execution_count": 46,
   "metadata": {},
   "outputs": [
    {
     "data": {
      "text/plain": [
       "'ss man table at'"
      ]
     },
     "execution_count": 46,
     "metadata": {},
     "output_type": "execute_result"
    }
   ],
   "source": [
    "relations_train_flat[0]"
   ]
  },
  {
   "cell_type": "code",
   "execution_count": 47,
   "metadata": {},
   "outputs": [
    {
     "data": {
      "text/plain": [
       "(57187, 85518)"
      ]
     },
     "execution_count": 47,
     "metadata": {},
     "output_type": "execute_result"
    }
   ],
   "source": [
    "len(trainz_relationship_list_joined), len(relations_train_flat)"
   ]
  },
  {
   "cell_type": "markdown",
   "metadata": {},
   "source": [
    "relations_train_flat_num = [dicto[word] for relation in relations_train_flat for word in relation.split(' ')]"
   ]
  },
  {
   "cell_type": "code",
   "execution_count": 48,
   "metadata": {},
   "outputs": [
    {
     "data": {
      "text/plain": [
       "287"
      ]
     },
     "execution_count": 48,
     "metadata": {},
     "output_type": "execute_result"
    }
   ],
   "source": [
    "len(np.unique(relations_train_flat))"
   ]
  },
  {
   "cell_type": "code",
   "execution_count": 49,
   "metadata": {},
   "outputs": [
    {
     "data": {
      "text/plain": [
       "66"
      ]
     },
     "execution_count": 49,
     "metadata": {},
     "output_type": "execute_result"
    }
   ],
   "source": [
    "num_words = len(np.unique([(relation)\n",
    "     for relations_list in trainz_relationship_list\n",
    "     for relation in relations_list]))\n",
    "num_words"
   ]
  },
  {
   "cell_type": "code",
   "execution_count": 50,
   "metadata": {},
   "outputs": [],
   "source": [
    "class TokenizerWrap(Tokenizer):\n",
    "    \"\"\"Wrap the Tokenizer-class from Keras with more functionality.\"\"\"\n",
    "    \n",
    "    def __init__(self, texts, num_words=None):\n",
    "        \"\"\"\n",
    "        :param texts: List of strings with the data-set.\n",
    "        :param num_words: Max number of words to use.\n",
    "        \"\"\"\n",
    "\n",
    "        Tokenizer.__init__(self, num_words=num_words)\n",
    "\n",
    "        # Create the vocabulary from the texts.\n",
    "        self.fit_on_texts(texts)\n",
    "\n",
    "        # Create inverse lookup from integer-tokens to words.\n",
    "        self.index_to_word = dict(zip(self.word_index.values(),\n",
    "                                      self.word_index.keys()))\n",
    "\n",
    "    def token_to_word(self, token):\n",
    "        \"\"\"Lookup a single word from an integer-token.\"\"\"\n",
    "\n",
    "        word = \" \" if token == 0 else self.index_to_word[token]\n",
    "        return word \n",
    "\n",
    "    def tokens_to_string(self, tokens):\n",
    "        \"\"\"Convert a list of integer-tokens to a string.\"\"\"\n",
    "\n",
    "        # Create a list of the individual words.\n",
    "        words = [self.index_to_word[token]\n",
    "                 for token in tokens\n",
    "                 if token != 0]\n",
    "        \n",
    "        # Concatenate the words to a single string\n",
    "        # with space between all the words.\n",
    "        text = \" \".join(words)\n",
    "\n",
    "        return text\n",
    "    \n",
    "    def captions_to_tokens(self, captions_listlist):\n",
    "        \"\"\"\n",
    "        Convert a list-of-list with text-captions to\n",
    "        a list-of-list of integer-tokens.\n",
    "        \"\"\"\n",
    "        \n",
    "        # Note that text_to_sequences() takes a list of texts.\n",
    "        tokens = [self.texts_to_sequences(captions_list)\n",
    "                  for captions_list in captions_listlist]\n",
    "        \n",
    "        return tokens"
   ]
  },
  {
   "cell_type": "code",
   "execution_count": 51,
   "metadata": {},
   "outputs": [
    {
     "name": "stdout",
     "output_type": "stream",
     "text": [
      "Wall time: 1.1 s\n"
     ]
    }
   ],
   "source": [
    "%%time\n",
    "tokenizer = TokenizerWrap(texts=relations_train_flat,\n",
    "                          num_words=num_words)"
   ]
  },
  {
   "cell_type": "code",
   "execution_count": 52,
   "metadata": {},
   "outputs": [
    {
     "data": {
      "text/plain": [
       "({'ss': 1,\n",
       "  'man': 2,\n",
       "  'at': 3,\n",
       "  'table': 4,\n",
       "  'woman': 5,\n",
       "  'chair': 6,\n",
       "  'holds': 7,\n",
       "  'on': 8,\n",
       "  'guitar': 9,\n",
       "  'plays': 10,\n",
       "  'microphone': 11,\n",
       "  'girl': 12,\n",
       "  'desk': 13,\n",
       "  'interacts': 14,\n",
       "  'with': 15,\n",
       "  'bicycle': 16,\n",
       "  'boy': 17,\n",
       "  'dog': 18,\n",
       "  'inside': 19,\n",
       "  'of': 20,\n",
       "  'coffeetable': 21,\n",
       "  'car': 22,\n",
       "  'drum': 23,\n",
       "  'horse': 24,\n",
       "  'wineglass': 25,\n",
       "  'camera': 26,\n",
       "  'bottle': 27,\n",
       "  'motorcycle': 28,\n",
       "  'beer': 29,\n",
       "  'football': 30,\n",
       "  'handbag': 31,\n",
       "  'bench': 32,\n",
       "  'violin': 33,\n",
       "  'wears': 34,\n",
       "  'coffeecup': 35,\n",
       "  'hits': 36,\n",
       "  'cat': 37,\n",
       "  'bed': 38,\n",
       "  'mobilephone': 39,\n",
       "  'tennisracket': 40,\n",
       "  'sofabed': 41,\n",
       "  'mug': 42,\n",
       "  'surfboard': 43,\n",
       "  'tabletennisracket': 44,\n",
       "  'backpack': 45,\n",
       "  'piano': 46,\n",
       "  'racket': 47,\n",
       "  'flute': 48,\n",
       "  'elephant': 49,\n",
       "  'fork': 50,\n",
       "  'spoon': 51,\n",
       "  'rugbyball': 52,\n",
       "  'ski': 53,\n",
       "  'van': 54,\n",
       "  'snake': 55,\n",
       "  'suitcase': 56,\n",
       "  'under': 57,\n",
       "  'chopsticks': 58,\n",
       "  'monkey': 59,\n",
       "  'snowboard': 60,\n",
       "  'tennisball': 61,\n",
       "  'taxi': 62,\n",
       "  'dolphin': 63,\n",
       "  'knife': 64,\n",
       "  'hamster': 65,\n",
       "  'pretzel': 66,\n",
       "  'briefcase': 67,\n",
       "  'microwaveoven': 68,\n",
       "  'oven': 69},\n",
       " 69)"
      ]
     },
     "execution_count": 52,
     "metadata": {},
     "output_type": "execute_result"
    }
   ],
   "source": [
    "tokenizer.word_index, len(tokenizer.word_index)"
   ]
  },
  {
   "cell_type": "code",
   "execution_count": 53,
   "metadata": {},
   "outputs": [
    {
     "name": "stdout",
     "output_type": "stream",
     "text": [
      "Wall time: 1.18 s\n"
     ]
    }
   ],
   "source": [
    "%%time\n",
    "tokens_train = tokenizer.captions_to_tokens(trainz_relationship_list_joined_s)"
   ]
  },
  {
   "cell_type": "code",
   "execution_count": 54,
   "metadata": {},
   "outputs": [
    {
     "data": {
      "text/plain": [
       "1"
      ]
     },
     "execution_count": 54,
     "metadata": {},
     "output_type": "execute_result"
    }
   ],
   "source": [
    "token_start = tokenizer.word_index[mark_start.strip()]\n",
    "token_start"
   ]
  },
  {
   "cell_type": "code",
   "execution_count": 55,
   "metadata": {},
   "outputs": [
    {
     "data": {
      "text/plain": [
       "2"
      ]
     },
     "execution_count": 55,
     "metadata": {},
     "output_type": "execute_result"
    }
   ],
   "source": [
    "tokenizer.word_index[\"man\"]"
   ]
  },
  {
   "cell_type": "code",
   "execution_count": 56,
   "metadata": {},
   "outputs": [
    {
     "data": {
      "text/plain": [
       "[[1, 2, 4, 3], [1, 6, 13, 3], [1, 6, 4, 3], [1, 2, 6, 8], [1, 2, 13, 3]]"
      ]
     },
     "execution_count": 56,
     "metadata": {},
     "output_type": "execute_result"
    }
   ],
   "source": [
    "tokens_train[0]"
   ]
  },
  {
   "cell_type": "code",
   "execution_count": 57,
   "metadata": {},
   "outputs": [
    {
     "data": {
      "text/plain": [
       "['man table at',\n",
       " 'chair desk at',\n",
       " 'chair table at',\n",
       " 'man chair on',\n",
       " 'man desk at']"
      ]
     },
     "execution_count": 57,
     "metadata": {},
     "output_type": "execute_result"
    }
   ],
   "source": [
    "trainz_relationship_list_joined[0]"
   ]
  },
  {
   "cell_type": "code",
   "execution_count": 58,
   "metadata": {},
   "outputs": [
    {
     "data": {
      "text/plain": [
       "{1: 37035,\n",
       " 2: 15071,\n",
       " 3: 3225,\n",
       " 4: 990,\n",
       " 5: 663,\n",
       " 6: 93,\n",
       " 7: 70,\n",
       " 8: 31,\n",
       " 9: 2,\n",
       " 10: 2,\n",
       " 11: 4,\n",
       " 13: 1}"
      ]
     },
     "execution_count": 58,
     "metadata": {},
     "output_type": "execute_result"
    }
   ],
   "source": [
    "# number of relationships per image\n",
    "count = [len(coun) for coun in trainz_relationship_list_joined]\n",
    "dic = {}\n",
    "for num in set(count):\n",
    "    dic[num] = count.count(num)\n",
    "dic"
   ]
  },
  {
   "cell_type": "code",
   "execution_count": 59,
   "metadata": {},
   "outputs": [
    {
     "data": {
      "text/plain": [
       "1567"
      ]
     },
     "execution_count": 59,
     "metadata": {},
     "output_type": "execute_result"
    }
   ],
   "source": [
    "# unique relationships\n",
    "len(np.unique(trainz_relationship_list_joined))"
   ]
  },
  {
   "cell_type": "code",
   "execution_count": 60,
   "metadata": {},
   "outputs": [
    {
     "data": {
      "text/plain": [
       "66"
      ]
     },
     "execution_count": 60,
     "metadata": {},
     "output_type": "execute_result"
    }
   ],
   "source": [
    "# unique classes\n",
    "len(np.unique([r for rs in trainz_relationship_list for r in rs]))"
   ]
  },
  {
   "cell_type": "code",
   "execution_count": null,
   "metadata": {},
   "outputs": [],
   "source": []
  },
  {
   "cell_type": "markdown",
   "metadata": {},
   "source": [
    "***"
   ]
  },
  {
   "cell_type": "markdown",
   "metadata": {},
   "source": [
    "***"
   ]
  },
  {
   "cell_type": "markdown",
   "metadata": {},
   "source": [
    "## Data Generator ?"
   ]
  },
  {
   "cell_type": "code",
   "execution_count": 61,
   "metadata": {},
   "outputs": [
    {
     "data": {
      "text/plain": [
       "57187"
      ]
     },
     "execution_count": 61,
     "metadata": {},
     "output_type": "execute_result"
    }
   ],
   "source": [
    "num_images_train = len(trainz_relationship_list)\n",
    "num_images_train"
   ]
  },
  {
   "cell_type": "code",
   "execution_count": 62,
   "metadata": {},
   "outputs": [],
   "source": [
    "def get_random_caption_tokens(idx):\n",
    "    \"\"\"\n",
    "    Given a list of indices for images in the training-set,\n",
    "    select a token-sequence for a random caption,\n",
    "    and return a list of all these token-sequences.\n",
    "    \"\"\"\n",
    "    \n",
    "    # Initialize an empty list for the results.\n",
    "    result = []\n",
    "\n",
    "    # For each of the indices.\n",
    "    for i in idx:\n",
    "        # The index i points to an image in the training-set.\n",
    "        # Each image in the training-set has at least 5 captions\n",
    "        # which have been converted to tokens in tokens_train.\n",
    "        # We want to select one of these token-sequences at random.\n",
    "\n",
    "        # Get a random index for a token-sequence.\n",
    "        j = np.random.choice(len(tokens_train[i]))\n",
    "\n",
    "        # Get the j'th token-sequence for image i.\n",
    "        tokens = tokens_train[i][j]\n",
    "\n",
    "        # Add this token-sequence to the list of results.\n",
    "        result.append(tokens)\n",
    "\n",
    "    return result"
   ]
  },
  {
   "cell_type": "code",
   "execution_count": 63,
   "metadata": {},
   "outputs": [
    {
     "data": {
      "text/plain": [
       "[[1, 2, 4, 3]]"
      ]
     },
     "execution_count": 63,
     "metadata": {},
     "output_type": "execute_result"
    }
   ],
   "source": [
    "get_random_caption_tokens([5])"
   ]
  },
  {
   "cell_type": "code",
   "execution_count": 64,
   "metadata": {},
   "outputs": [],
   "source": [
    "def batch_generator(batch_size):\n",
    "    \"\"\"\n",
    "    Generator function for creating random batches of training-data.\n",
    "    \n",
    "    Note that it selects the data completely randomly for each\n",
    "    batch, corresponding to sampling of the training-set with\n",
    "    replacement. This means it is possible to sample the same\n",
    "    data multiple times within a single epoch - and it is also\n",
    "    possible that some data is not sampled at all within an epoch.\n",
    "    However, all the data should be unique within a single batch.\n",
    "    \"\"\"\n",
    "\n",
    "    # Infinite loop.\n",
    "    while True:\n",
    "        # Get a list of random indices for images in the training-set.\n",
    "        idx = np.random.randint(num_images_train,\n",
    "                                size=batch_size)\n",
    "        \n",
    "        # Get the pre-computed transfer-values for those images.\n",
    "        # These are the outputs of the pre-trained image-model.\n",
    "        transfer_values = transfer_values_train[idx]\n",
    "\n",
    "        # For each of the randomly chosen images there are\n",
    "        # at least 5 captions describing the contents of the image.\n",
    "        # Select one of those captions at random and get the\n",
    "        # associated sequence of integer-tokens.\n",
    "        tokens = get_random_caption_tokens(idx)\n",
    "\n",
    "        # Count the number of tokens in all these token-sequences.\n",
    "        num_tokens = [len(t) for t in tokens]\n",
    "        \n",
    "        # Max number of tokens.\n",
    "        max_tokens = np.max(num_tokens)\n",
    "        \n",
    "        # Pad all the other token-sequences with zeros\n",
    "        # so they all have the same length and can be\n",
    "        # input to the neural network as a numpy array.\n",
    "        tokens_padded = pad_sequences(tokens,\n",
    "                                      maxlen=max_tokens,\n",
    "                                      padding='post',\n",
    "                                      truncating='post')\n",
    "        \n",
    "        # Further prepare the token-sequences.\n",
    "        # The decoder-part of the neural network\n",
    "        # will try to map the token-sequences to\n",
    "        # themselves shifted one time-step.\n",
    "        decoder_input_data = tokens_padded[:, 0:-1]\n",
    "        decoder_output_data = tokens_padded[:, 1:]\n",
    "\n",
    "        # Dict for the input-data. Because we have\n",
    "        # several inputs, we use a named dict to\n",
    "        # ensure that the data is assigned correctly.\n",
    "        x_data = \\\n",
    "        {\n",
    "            'decoder_input': decoder_input_data,\n",
    "            'transfer_values_input': transfer_values\n",
    "        }\n",
    "\n",
    "        # Dict for the output-data.\n",
    "        y_data = \\\n",
    "        {\n",
    "            'decoder_output': decoder_output_data\n",
    "        }\n",
    "        \n",
    "        yield (x_data, y_data)"
   ]
  },
  {
   "cell_type": "code",
   "execution_count": 65,
   "metadata": {},
   "outputs": [],
   "source": [
    "batch_size = 256"
   ]
  },
  {
   "cell_type": "code",
   "execution_count": 66,
   "metadata": {},
   "outputs": [],
   "source": [
    "generator = batch_generator(batch_size=batch_size)"
   ]
  },
  {
   "cell_type": "code",
   "execution_count": 67,
   "metadata": {},
   "outputs": [],
   "source": [
    "batch = next(generator)\n",
    "batch_x = batch[0]\n",
    "batch_y = batch[1]"
   ]
  },
  {
   "cell_type": "code",
   "execution_count": 68,
   "metadata": {},
   "outputs": [
    {
     "data": {
      "text/plain": [
       "array([0.    , 0.    , 1.4795, ..., 0.    , 0.    , 0.742 ], dtype=float16)"
      ]
     },
     "execution_count": 68,
     "metadata": {},
     "output_type": "execute_result"
    }
   ],
   "source": [
    "batch_x['transfer_values_input'][0]"
   ]
  },
  {
   "cell_type": "code",
   "execution_count": 69,
   "metadata": {},
   "outputs": [
    {
     "data": {
      "text/plain": [
       "array([ 1,  5, 16,  8])"
      ]
     },
     "execution_count": 69,
     "metadata": {},
     "output_type": "execute_result"
    }
   ],
   "source": [
    "batch_x['decoder_input'][0]"
   ]
  },
  {
   "cell_type": "code",
   "execution_count": 70,
   "metadata": {},
   "outputs": [
    {
     "data": {
      "text/plain": [
       "array([ 5, 16,  8,  0])"
      ]
     },
     "execution_count": 70,
     "metadata": {},
     "output_type": "execute_result"
    }
   ],
   "source": [
    "batch_y['decoder_output'][0]"
   ]
  },
  {
   "cell_type": "code",
   "execution_count": 71,
   "metadata": {},
   "outputs": [],
   "source": [
    "num_relations_train = [len(relations) for relations in trainz_relationship_list_joined_s]"
   ]
  },
  {
   "cell_type": "code",
   "execution_count": 72,
   "metadata": {},
   "outputs": [],
   "source": [
    "total_num_relations_train = np.sum(num_relations_train)"
   ]
  },
  {
   "cell_type": "code",
   "execution_count": 73,
   "metadata": {},
   "outputs": [
    {
     "data": {
      "text/plain": [
       "334"
      ]
     },
     "execution_count": 73,
     "metadata": {},
     "output_type": "execute_result"
    }
   ],
   "source": [
    "steps_per_epoch = int(total_num_relations_train / batch_size)\n",
    "steps_per_epoch"
   ]
  },
  {
   "cell_type": "markdown",
   "metadata": {},
   "source": [
    "***"
   ]
  },
  {
   "cell_type": "markdown",
   "metadata": {},
   "source": [
    "***"
   ]
  },
  {
   "cell_type": "markdown",
   "metadata": {},
   "source": [
    "# Network"
   ]
  },
  {
   "cell_type": "code",
   "execution_count": null,
   "metadata": {},
   "outputs": [],
   "source": []
  },
  {
   "cell_type": "code",
   "execution_count": 74,
   "metadata": {},
   "outputs": [],
   "source": [
    "state_size = 512"
   ]
  },
  {
   "cell_type": "code",
   "execution_count": 75,
   "metadata": {},
   "outputs": [],
   "source": [
    "embedding_size = 128"
   ]
  },
  {
   "cell_type": "code",
   "execution_count": 76,
   "metadata": {},
   "outputs": [],
   "source": [
    "transfer_values_input = Input(shape=(transfer_values_size,),\n",
    "                              name='transfer_values_input')"
   ]
  },
  {
   "cell_type": "code",
   "execution_count": 77,
   "metadata": {},
   "outputs": [],
   "source": [
    "decoder_transfer_map = Dense(state_size,\n",
    "                             activation='tanh',\n",
    "                             name='decoder_transfer_map')"
   ]
  },
  {
   "cell_type": "code",
   "execution_count": 78,
   "metadata": {},
   "outputs": [],
   "source": [
    "decoder_input = Input(shape=(None, ), name='decoder_input')"
   ]
  },
  {
   "cell_type": "code",
   "execution_count": 79,
   "metadata": {},
   "outputs": [
    {
     "name": "stderr",
     "output_type": "stream",
     "text": [
      "W1217 22:18:40.497076 15000 deprecation.py:506] From c:\\pphiles\\python37\\lib\\site-packages\\tensorflow\\python\\keras\\initializers.py:119: calling RandomUniform.__init__ (from tensorflow.python.ops.init_ops) with dtype is deprecated and will be removed in a future version.\n",
      "Instructions for updating:\n",
      "Call initializer instance with the dtype argument instead of passing it to the constructor\n"
     ]
    }
   ],
   "source": [
    "decoder_embedding = Embedding(input_dim=num_words,\n",
    "                              output_dim=embedding_size,\n",
    "                              name='decoder_embedding')"
   ]
  },
  {
   "cell_type": "code",
   "execution_count": 80,
   "metadata": {},
   "outputs": [],
   "source": [
    "decoder_gru1 = GRU(state_size, name='decoder_gru1',\n",
    "                   return_sequences=True)\n",
    "decoder_gru2 = GRU(state_size, name='decoder_gru2',\n",
    "                   return_sequences=True)\n",
    "decoder_gru3 = GRU(state_size, name='decoder_gru3',\n",
    "                   return_sequences=True)"
   ]
  },
  {
   "cell_type": "code",
   "execution_count": 81,
   "metadata": {},
   "outputs": [],
   "source": [
    "decoder_dense = Dense(num_words,\n",
    "                      activation='linear',\n",
    "                      name='decoder_output')"
   ]
  },
  {
   "cell_type": "markdown",
   "metadata": {},
   "source": [
    "***"
   ]
  },
  {
   "cell_type": "code",
   "execution_count": 82,
   "metadata": {},
   "outputs": [],
   "source": [
    "def connect_decoder(transfer_values):\n",
    "    # Map the transfer-values so the dimensionality matches\n",
    "    # the internal state of the GRU layers. This means\n",
    "    # we can use the mapped transfer-values as the initial state\n",
    "    # of the GRU layers.\n",
    "    initial_state = decoder_transfer_map(transfer_values)\n",
    "\n",
    "    # Start the decoder-network with its input-layer.\n",
    "    net = decoder_input\n",
    "    \n",
    "    # Connect the embedding-layer.\n",
    "    net = decoder_embedding(net)\n",
    "    \n",
    "    # Connect all the GRU layers.\n",
    "    net = decoder_gru1(net, initial_state=initial_state)\n",
    "    net = decoder_gru2(net, initial_state=initial_state)\n",
    "    net = decoder_gru3(net, initial_state=initial_state)\n",
    "\n",
    "    # Connect the final dense layer that converts to\n",
    "    # one-hot encoded arrays.\n",
    "    decoder_output = decoder_dense(net)\n",
    "    \n",
    "    return decoder_output"
   ]
  },
  {
   "cell_type": "code",
   "execution_count": 83,
   "metadata": {},
   "outputs": [],
   "source": [
    "decoder_output = connect_decoder(transfer_values=transfer_values_input)\n",
    "\n",
    "decoder_model = Model(inputs=[transfer_values_input, decoder_input],\n",
    "                      outputs=[decoder_output])"
   ]
  },
  {
   "cell_type": "code",
   "execution_count": 84,
   "metadata": {},
   "outputs": [],
   "source": [
    "# decoder_model.compile(optimizer=optimizer,\n",
    "#                       loss='sparse_categorical_crossentropy')"
   ]
  },
  {
   "cell_type": "code",
   "execution_count": 85,
   "metadata": {},
   "outputs": [],
   "source": [
    "def sparse_cross_entropy(y_true, y_pred):\n",
    "    \"\"\"\n",
    "    Calculate the cross-entropy loss between y_true and y_pred.\n",
    "    \n",
    "    y_true is a 2-rank tensor with the desired output.\n",
    "    The shape is [batch_size, sequence_length] and it\n",
    "    contains sequences of integer-tokens.\n",
    "\n",
    "    y_pred is the decoder's output which is a 3-rank tensor\n",
    "    with shape [batch_size, sequence_length, num_words]\n",
    "    so that for each sequence in the batch there is a one-hot\n",
    "    encoded array of length num_words.\n",
    "    \"\"\"\n",
    "\n",
    "    # Calculate the loss. This outputs a\n",
    "    # 2-rank tensor of shape [batch_size, sequence_length]\n",
    "    loss = tf.nn.sparse_softmax_cross_entropy_with_logits(labels=y_true,\n",
    "                                                          logits=y_pred)\n",
    "\n",
    "    # Keras may reduce this across the first axis (the batch)\n",
    "    # but the semantics are unclear, so to be sure we use\n",
    "    # the loss across the entire 2-rank tensor, we reduce it\n",
    "    # to a single scalar with the mean function.\n",
    "    loss_mean = tf.reduce_mean(loss)\n",
    "\n",
    "    return loss_mean"
   ]
  },
  {
   "cell_type": "markdown",
   "metadata": {},
   "source": [
    "***"
   ]
  },
  {
   "cell_type": "code",
   "execution_count": 86,
   "metadata": {},
   "outputs": [],
   "source": [
    "optimizer = RMSprop(lr=1e-3) # or Adam"
   ]
  },
  {
   "cell_type": "code",
   "execution_count": 87,
   "metadata": {},
   "outputs": [],
   "source": [
    "decoder_target = tf.placeholder(dtype='int32', shape=(None, None))"
   ]
  },
  {
   "cell_type": "code",
   "execution_count": 88,
   "metadata": {},
   "outputs": [],
   "source": [
    "decoder_model.compile(optimizer=optimizer,\n",
    "                      loss=sparse_cross_entropy,\n",
    "                      target_tensors=[decoder_target])"
   ]
  },
  {
   "cell_type": "code",
   "execution_count": null,
   "metadata": {},
   "outputs": [],
   "source": []
  },
  {
   "cell_type": "code",
   "execution_count": 89,
   "metadata": {},
   "outputs": [],
   "source": [
    "path_checkpoint = 'vnet_checkpoint.keras'\n",
    "callback_checkpoint = ModelCheckpoint(filepath=path_checkpoint,\n",
    "                                      verbose=1,\n",
    "                                      save_weights_only=True)"
   ]
  },
  {
   "cell_type": "code",
   "execution_count": 90,
   "metadata": {},
   "outputs": [],
   "source": [
    "callback_tensorboard = TensorBoard(log_dir='./vnet_logs/',\n",
    "                                   histogram_freq=0,\n",
    "                                   write_graph=False)"
   ]
  },
  {
   "cell_type": "code",
   "execution_count": 91,
   "metadata": {},
   "outputs": [],
   "source": [
    "callbacks = [callback_checkpoint, callback_tensorboard]"
   ]
  },
  {
   "cell_type": "markdown",
   "metadata": {},
   "source": [
    "***"
   ]
  },
  {
   "cell_type": "markdown",
   "metadata": {},
   "source": [
    "***"
   ]
  },
  {
   "cell_type": "code",
   "execution_count": 92,
   "metadata": {},
   "outputs": [
    {
     "name": "stdout",
     "output_type": "stream",
     "text": [
      "Error trying to load checkpoint.\n",
      "Unable to open file (unable to open file: name = 'vnet_checkpoint.keras', errno = 2, error message = 'No such file or directory', flags = 0, o_flags = 0)\n"
     ]
    }
   ],
   "source": [
    "try:\n",
    "    decoder_model.load_weights(path_checkpoint)\n",
    "except Exception as error:\n",
    "    print(\"Error trying to load checkpoint.\")\n",
    "    print(error)"
   ]
  },
  {
   "cell_type": "code",
   "execution_count": 93,
   "metadata": {},
   "outputs": [
    {
     "name": "stdout",
     "output_type": "stream",
     "text": [
      "Epoch 1/20\n"
     ]
    },
    {
     "name": "stderr",
     "output_type": "stream",
     "text": [
      "W1218 07:42:44.749753 15000 deprecation.py:323] From c:\\pphiles\\python37\\lib\\site-packages\\tensorflow\\python\\ops\\math_grad.py:1250: add_dispatch_support.<locals>.wrapper (from tensorflow.python.ops.array_ops) is deprecated and will be removed in a future version.\n",
      "Instructions for updating:\n",
      "Use tf.where in 2.0, which has the same broadcast rule as np.where\n"
     ]
    },
    {
     "name": "stdout",
     "output_type": "stream",
     "text": [
      "333/334 [============================>.] - ETA: 0s - loss: 1.2309\n",
      "Epoch 00001: saving model to vnet_checkpoint.keras\n",
      "334/334 [==============================] - 30s 89ms/step - loss: 1.2299\n",
      "Epoch 2/20\n",
      "333/334 [============================>.] - ETA: 0s - loss: 0.8281\n",
      "Epoch 00002: saving model to vnet_checkpoint.keras\n",
      "334/334 [==============================] - 24s 71ms/step - loss: 0.8282\n",
      "Epoch 3/20\n",
      "333/334 [============================>.] - ETA: 0s - loss: 0.7821\n",
      "Epoch 00003: saving model to vnet_checkpoint.keras\n",
      "334/334 [==============================] - 24s 71ms/step - loss: 0.7820\n",
      "Epoch 4/20\n",
      "333/334 [============================>.] - ETA: 0s - loss: 0.7557\n",
      "Epoch 00004: saving model to vnet_checkpoint.keras\n",
      "334/334 [==============================] - 24s 70ms/step - loss: 0.7556\n",
      "Epoch 5/20\n",
      "333/334 [============================>.] - ETA: 0s - loss: 0.7380\n",
      "Epoch 00005: saving model to vnet_checkpoint.keras\n",
      "334/334 [==============================] - 24s 71ms/step - loss: 0.7379\n",
      "Epoch 6/20\n",
      "333/334 [============================>.] - ETA: 0s - loss: 0.7270\n",
      "Epoch 00006: saving model to vnet_checkpoint.keras\n",
      "334/334 [==============================] - 24s 71ms/step - loss: 0.7270\n",
      "Epoch 7/20\n",
      "333/334 [============================>.] - ETA: 0s - loss: 0.7188\n",
      "Epoch 00007: saving model to vnet_checkpoint.keras\n",
      "334/334 [==============================] - 24s 71ms/step - loss: 0.7188\n",
      "Epoch 8/20\n",
      "333/334 [============================>.] - ETA: 0s - loss: 0.7095\n",
      "Epoch 00008: saving model to vnet_checkpoint.keras\n",
      "334/334 [==============================] - 24s 71ms/step - loss: 0.7096\n",
      "Epoch 9/20\n",
      "333/334 [============================>.] - ETA: 0s - loss: 0.7031\n",
      "Epoch 00009: saving model to vnet_checkpoint.keras\n",
      "334/334 [==============================] - 24s 70ms/step - loss: 0.7031\n",
      "Epoch 10/20\n",
      "333/334 [============================>.] - ETA: 0s - loss: 0.6977\n",
      "Epoch 00010: saving model to vnet_checkpoint.keras\n",
      "334/334 [==============================] - 24s 70ms/step - loss: 0.6977\n",
      "Epoch 11/20\n",
      "333/334 [============================>.] - ETA: 0s - loss: 0.6916\n",
      "Epoch 00011: saving model to vnet_checkpoint.keras\n",
      "334/334 [==============================] - 24s 71ms/step - loss: 0.6915\n",
      "Epoch 12/20\n",
      "333/334 [============================>.] - ETA: 0s - loss: 0.6920\n",
      "Epoch 00012: saving model to vnet_checkpoint.keras\n",
      "334/334 [==============================] - 24s 71ms/step - loss: 0.6920\n",
      "Epoch 13/20\n",
      "333/334 [============================>.] - ETA: 0s - loss: 0.6809\n",
      "Epoch 00013: saving model to vnet_checkpoint.keras\n",
      "334/334 [==============================] - 24s 70ms/step - loss: 0.6808\n",
      "Epoch 14/20\n",
      "333/334 [============================>.] - ETA: 0s - loss: 0.6764\n",
      "Epoch 00014: saving model to vnet_checkpoint.keras\n",
      "334/334 [==============================] - 24s 71ms/step - loss: 0.6763\n",
      "Epoch 15/20\n",
      "333/334 [============================>.] - ETA: 0s - loss: 0.6766\n",
      "Epoch 00015: saving model to vnet_checkpoint.keras\n",
      "334/334 [==============================] - 24s 71ms/step - loss: 0.6766\n",
      "Epoch 16/20\n",
      "333/334 [============================>.] - ETA: 0s - loss: 0.6667\n",
      "Epoch 00016: saving model to vnet_checkpoint.keras\n",
      "334/334 [==============================] - 24s 71ms/step - loss: 0.6669\n",
      "Epoch 17/20\n",
      "333/334 [============================>.] - ETA: 0s - loss: 0.6668\n",
      "Epoch 00017: saving model to vnet_checkpoint.keras\n",
      "334/334 [==============================] - 24s 70ms/step - loss: 0.6668\n",
      "Epoch 18/20\n",
      "333/334 [============================>.] - ETA: 0s - loss: 0.6611\n",
      "Epoch 00018: saving model to vnet_checkpoint.keras\n",
      "334/334 [==============================] - 24s 71ms/step - loss: 0.6612\n",
      "Epoch 19/20\n",
      "333/334 [============================>.] - ETA: 0s - loss: 0.6602\n",
      "Epoch 00019: saving model to vnet_checkpoint.keras\n",
      "334/334 [==============================] - 24s 70ms/step - loss: 0.6602\n",
      "Epoch 20/20\n",
      "333/334 [============================>.] - ETA: 0s - loss: 0.6571\n",
      "Epoch 00020: saving model to vnet_checkpoint.keras\n",
      "334/334 [==============================] - 24s 71ms/step - loss: 0.6571\n",
      "Wall time: 7min 57s\n"
     ]
    },
    {
     "data": {
      "text/plain": [
       "<tensorflow.python.keras.callbacks.History at 0x1536da2f808>"
      ]
     },
     "execution_count": 93,
     "metadata": {},
     "output_type": "execute_result"
    }
   ],
   "source": [
    "%%time\n",
    "decoder_model.fit_generator(generator=generator,\n",
    "                            steps_per_epoch=steps_per_epoch,\n",
    "                            epochs=20,\n",
    "                            callbacks=callbacks)"
   ]
  },
  {
   "cell_type": "markdown",
   "metadata": {},
   "source": [
    "***"
   ]
  },
  {
   "cell_type": "markdown",
   "metadata": {},
   "source": [
    "***"
   ]
  },
  {
   "cell_type": "markdown",
   "metadata": {},
   "source": [
    "***"
   ]
  },
  {
   "cell_type": "markdown",
   "metadata": {},
   "source": [
    "## Generate Captions\n",
    "\n",
    "This function loads an image and generates a caption using the model we have trained."
   ]
  },
  {
   "cell_type": "code",
   "execution_count": 94,
   "metadata": {},
   "outputs": [],
   "source": [
    "def generate_caption(image_path, max_tokens=4):\n",
    "    \"\"\"\n",
    "    Generate a caption for the image in the given path.\n",
    "    The caption is limited to the given number of tokens (words).\n",
    "    \"\"\"\n",
    "\n",
    "    # Load and resize the image.\n",
    "    image = load_image(image_path, size=img_size)\n",
    "    \n",
    "    # Expand the 3-dim numpy array to 4-dim\n",
    "    # because the image-model expects a whole batch as input,\n",
    "    # so we give it a batch with just one image.\n",
    "    image_batch = np.expand_dims(image, axis=0)\n",
    "\n",
    "    # Process the image with the pre-trained image-model\n",
    "    # to get the transfer-values.\n",
    "    transfer_values = image_model_transfer.predict(image_batch)\n",
    "\n",
    "    # Pre-allocate the 2-dim array used as input to the decoder.\n",
    "    # This holds just a single sequence of integer-tokens,\n",
    "    # but the decoder-model expects a batch of sequences.\n",
    "    shape = (1, max_tokens)\n",
    "    decoder_input_data = np.zeros(shape=shape, dtype=np.int)\n",
    "\n",
    "    # The first input-token is the special start-token for 'ssss '.\n",
    "    token_int = token_start\n",
    "\n",
    "    # Initialize an empty output-text.\n",
    "    output_text = ''\n",
    "\n",
    "    # Initialize the number of tokens we have processed.\n",
    "    count_tokens = 0\n",
    "\n",
    "    curr_words = 1\n",
    "    \n",
    "    # While we haven't sampled the special end-token for ' eeee'\n",
    "    # and we haven't processed the max number of tokens.\n",
    "    \n",
    "    #while token_int != token_end and count_tokens < max_tokens:\n",
    "    #while curr_words < max_tokens-2:\n",
    "    for i in range(4):\n",
    "        # Update the input-sequence to the decoder\n",
    "        # with the last token that was sampled.\n",
    "        # In the first iteration this will set the\n",
    "        # first element to the start-token.\n",
    "        decoder_input_data[0, count_tokens] = token_int\n",
    "        # Wrap the input-data in a dict for clarity and safety,\n",
    "        # so we are sure we input the data in the right order.\n",
    "        x_data = \\\n",
    "        {\n",
    "            'transfer_values_input': transfer_values,\n",
    "            'decoder_input': decoder_input_data\n",
    "        }\n",
    "\n",
    "        # Note that we input the entire sequence of tokens\n",
    "        # to the decoder. This wastes a lot of computation\n",
    "        # because we are only interested in the last input\n",
    "        # and output. We could modify the code to return\n",
    "        # the GRU-states when calling predict() and then\n",
    "        # feeding these GRU-states as well the next time\n",
    "        # we call predict(), but it would make the code\n",
    "        # much more complicated.\n",
    "        \n",
    "        # Input this data to the decoder and get the predicted output.\n",
    "        decoder_output = decoder_model.predict(x_data)\n",
    "        #print((decoder_output))\n",
    "\n",
    "        # Get the last predicted token as a one-hot encoded array.\n",
    "        # Note that this is not limited by softmax, but we just\n",
    "        # need the index of the largest element so it doesn't matter.\n",
    "        token_onehot = decoder_output[0, count_tokens, :]\n",
    "\n",
    "        # Convert to an integer-token.\n",
    "        token_int = np.argmax(token_onehot)\n",
    "\n",
    "        # Lookup the word corresponding to this integer-token.\n",
    "        sampled_word = tokenizer.token_to_word(token_int)\n",
    "\n",
    "        # Append the word to the output-text.\n",
    "        output_text += \" \" + sampled_word\n",
    "\n",
    "        # Increment the token-counter.\n",
    "        count_tokens += 1\n",
    "\n",
    "    # This is the sequence of tokens output by the decoder.\n",
    "    output_tokens = decoder_input_data[0]\n",
    "\n",
    "    # Plot the image.\n",
    "    plt.imshow(image)\n",
    "    plt.show()\n",
    "    \n",
    "    # Print the predicted caption.\n",
    "    print(\"Predicted caption:\")\n",
    "    print(output_text)\n",
    "    print()"
   ]
  },
  {
   "cell_type": "code",
   "execution_count": 95,
   "metadata": {},
   "outputs": [],
   "source": [
    "def generate_caption_train(iid):\n",
    "    \"\"\"\n",
    "    \n",
    "    \"\"\"\n",
    "    print(iid)\n",
    "\n",
    "    # Use image and captions from the training-set.\n",
    "    captions = trainz_relationship_list_joined[np.where(imageIDs_trainz == iid)[0][0]]\n",
    "\n",
    "    # Path for the image-file.\n",
    "    path = os.path.join(IMAGE_DIR_REL, (iid + '.jpg'))\n",
    "\n",
    "    # Use the model to generate a caption of the image.\n",
    "    generate_caption(image_path=path)\n",
    "\n",
    "    # Print the true captions from the data-set.\n",
    "    print(\"True captions:\")\n",
    "    #for caption in captions:\n",
    "    print(captions)\n"
   ]
  },
  {
   "cell_type": "code",
   "execution_count": null,
   "metadata": {},
   "outputs": [],
   "source": []
  },
  {
   "cell_type": "markdown",
   "metadata": {},
   "source": [
    "# Test the Model"
   ]
  },
  {
   "cell_type": "code",
   "execution_count": 96,
   "metadata": {},
   "outputs": [
    {
     "data": {
      "image/png": "[encoded data removed]",
      "text/plain": [
       "<Figure size 432x288 with 1 Axes>"
      ]
     },
     "metadata": {
      "needs_background": "light"
     },
     "output_type": "display_data"
    },
    {
     "name": "stdout",
     "output_type": "stream",
     "text": [
      "Predicted caption:\n",
      " chair table at  \n",
      "\n"
     ]
    }
   ],
   "source": [
    "generate_caption(os.path.join(IMAGE_DIR_REL, ('5f07cc69123be854' + '.jpg')))"
   ]
  },
  {
   "cell_type": "code",
   "execution_count": 98,
   "metadata": {},
   "outputs": [
    {
     "name": "stdout",
     "output_type": "stream",
     "text": [
      "7543baa622a2b1c8\n"
     ]
    },
    {
     "data": {
      "image/png": "[encoded data removed]",
      "text/plain": [
       "<Figure size 432x288 with 1 Axes>"
      ]
     },
     "metadata": {
      "needs_background": "light"
     },
     "output_type": "display_data"
    },
    {
     "name": "stdout",
     "output_type": "stream",
     "text": [
      "Predicted caption:\n",
      " man beer holds  \n",
      "\n",
      "True captions:\n",
      "['man bottle holds', 'man beer holds']\n"
     ]
    }
   ],
   "source": [
    "generate_caption_train(np.random.choice(imageIDs_trainz))"
   ]
  },
  {
   "cell_type": "code",
   "execution_count": null,
   "metadata": {},
   "outputs": [],
   "source": []
  },
  {
   "cell_type": "markdown",
   "metadata": {},
   "source": [
    "***"
   ]
  },
  {
   "cell_type": "markdown",
   "metadata": {},
   "source": [
    "***"
   ]
  },
  {
   "cell_type": "markdown",
   "metadata": {},
   "source": [
    "\\\n",
    "\\\n",
    "\\\n",
    "\\\n",
    "\\\n",
    "\\\n",
    "\\\n",
    "\\\n",
    "\\\n",
    "\\\n",
    "\\\n",
    "\\\n",
    "\\\n",
    "\n",
    "## Donwload images containing relationship data"
   ]
  },
  {
   "cell_type": "markdown",
   "metadata": {},
   "source": [
    "https://www.figure-eight.com/dataset/open-images-annotated-with-bounding-boxes/"
   ]
  },
  {
   "cell_type": "code",
   "execution_count": 4,
   "metadata": {},
   "outputs": [],
   "source": [
    "IMAGE_DIR_REL = r\"D:\\data\\VRNet\\imagenet_rel_subset\""
   ]
  },
  {
   "cell_type": "code",
   "execution_count": 5,
   "metadata": {},
   "outputs": [],
   "source": [
    "def download_image(url, image_name, directory=\"\"):\n",
    "    import urllib\n",
    "    import os\n",
    "    urllib.request.urlretrieve(url, os.path.join(directory, image_name))\n",
    "\n",
    "def download_images_from_df(dataframe, directory):\n",
    "    import urllib\n",
    "    import os\n",
    "    current_files = os.listdir(directory)\n",
    "    left_to_dl = dataframe[~dataframe.image_name.isin(current_files)]\n",
    "    i = len(current_files)\n",
    "    total = len(dataframe)\n",
    "    print(f\"Downloading {total} images\")\n",
    "    print(f\"{i} images already downloaded\")\n",
    "    print(f\"Downloading {len(left_to_dl)} remaining\")\n",
    "    \n",
    "    for index, image_name, image_url in left_to_dl.itertuples():\n",
    "        i = i + 1 \n",
    "        print_progress(i, total)\n",
    "        #if not image_name in current_files:# not os.path.isfile(os.path.join(directory, image_name)):\n",
    "            #try:\n",
    "        download_image(image_url, image_name, directory)\n",
    "            #except: \n",
    "            #    pass# print(f\"\\nError downloading {image_name}\")\n",
    "    print(f\"\\nDownloaded total {i} images; available total {total}\")"
   ]
  },
  {
   "cell_type": "code",
   "execution_count": 6,
   "metadata": {},
   "outputs": [
    {
     "data": {
      "text/plain": [
       "374768"
      ]
     },
     "execution_count": 6,
     "metadata": {},
     "output_type": "execute_result"
    }
   ],
   "source": [
    "import pandas as pd\n",
    "\n",
    "all_relationships_file = r\"D:\\data\\open-images-2019-visual-relationship\\challenge-2019-train-vrd.csv\"\n",
    "all_relationships = pd.read_csv(all_relationships_file)\n",
    "# all_relationships.describe()\n",
    "len(all_relationships)"
   ]
  },
  {
   "cell_type": "code",
   "execution_count": 7,
   "metadata": {},
   "outputs": [
    {
     "data": {
      "text/plain": [
       "100522"
      ]
     },
     "execution_count": 7,
     "metadata": {},
     "output_type": "execute_result"
    }
   ],
   "source": [
    "images_w_relationships = all_relationships.ImageID.unique()\n",
    "len(images_w_relationships)"
   ]
  },
  {
   "cell_type": "code",
   "execution_count": 8,
   "metadata": {},
   "outputs": [
    {
     "data": {
      "text/plain": [
       "1743042"
      ]
     },
     "execution_count": 8,
     "metadata": {},
     "output_type": "execute_result"
    }
   ],
   "source": [
    "url_indexes = pd.read_csv(r\"D:\\data\\open-images-2019-visual-relationship\\train-images-boxable.csv\")\n",
    "len(url_indexes)"
   ]
  },
  {
   "cell_type": "code",
   "execution_count": 9,
   "metadata": {},
   "outputs": [
    {
     "data": {
      "text/plain": [
       "100521"
      ]
     },
     "execution_count": 9,
     "metadata": {},
     "output_type": "execute_result"
    }
   ],
   "source": [
    "images_w_relationships_names = [f + '.jpg' for f in images_w_relationships]\n",
    "url_indexes_relationship = url_indexes[url_indexes.image_name.isin(images_w_relationships_names)]\n",
    "len(url_indexes_relationship)"
   ]
  },
  {
   "cell_type": "code",
   "execution_count": null,
   "metadata": {},
   "outputs": [],
   "source": [
    "%%time\n",
    "download_images_from_df(url_indexes_relationship, IMAGE_DIR_REL)"
   ]
  },
  {
   "cell_type": "code",
   "execution_count": 55,
   "metadata": {},
   "outputs": [],
   "source": []
  },
  {
   "cell_type": "code",
   "execution_count": null,
   "metadata": {},
   "outputs": [],
   "source": []
  }
 ],
 "metadata": {
  "kernelspec": {
   "display_name": "Python 3",
   "language": "python",
   "name": "python3"
  },
  "language_info": {
   "codemirror_mode": {
    "name": "ipython",
    "version": 3
   },
   "file_extension": ".py",
   "mimetype": "text/x-python",
   "name": "python",
   "nbconvert_exporter": "python",
   "pygments_lexer": "ipython3",
   "version": "3.7.4"
  }
 },
 "nbformat": 4,
 "nbformat_minor": 4
}
