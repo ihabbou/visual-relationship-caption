{
 "cells": [
  {
   "cell_type": "markdown",
   "metadata": {},
   "source": [
    "# Model Evaluation"
   ]
  },
  {
   "cell_type": "code",
   "execution_count": 1,
   "metadata": {},
   "outputs": [],
   "source": [
    "import pandas as pd\n",
    "import numpy as np\n",
    "import matplotlib.pyplot as plt\n",
    "import os\n",
    "import sys\n",
    "sys.path.append(\"..\")\n",
    "from cache import cache"
   ]
  },
  {
   "cell_type": "code",
   "execution_count": 2,
   "metadata": {},
   "outputs": [],
   "source": [
    "IMAGE_DIR = r\"D:\\data\\train-256\\train\"\n",
    "DATA_OUTPUT_DIR = r\"D:\\data\\VRNet\""
   ]
  },
  {
   "cell_type": "code",
   "execution_count": 3,
   "metadata": {},
   "outputs": [],
   "source": [
    "DEPTH = 9"
   ]
  },
  {
   "cell_type": "code",
   "execution_count": 4,
   "metadata": {},
   "outputs": [],
   "source": [
    "#TODO Move all the relatoinship manipulation into its own file"
   ]
  },
  {
   "cell_type": "code",
   "execution_count": 5,
   "metadata": {},
   "outputs": [],
   "source": [
    "IMAGE_DIR_REL = r\"D:\\data\\VRNet\\imagenet_rel_subset\""
   ]
  },
  {
   "cell_type": "code",
   "execution_count": 6,
   "metadata": {},
   "outputs": [],
   "source": [
    "all_relationships_file = r\"D:\\data\\open-images-2019-visual-relationship\\challenge-2019-train-vrd.csv\"\n",
    "all_relationships = pd.read_csv(all_relationships_file)"
   ]
  },
  {
   "cell_type": "code",
   "execution_count": 7,
   "metadata": {},
   "outputs": [],
   "source": [
    "rel_definition_file = r\"D:\\data\\open-images-2019-visual-relationship\\challenge-2019-relationship-triplets.csv\"\n",
    "rel_definition = pd.read_csv(rel_definition_file)"
   ]
  },
  {
   "cell_type": "code",
   "execution_count": 8,
   "metadata": {},
   "outputs": [],
   "source": [
    "rel_counts = all_relationships.ImageID.value_counts()"
   ]
  },
  {
   "cell_type": "code",
   "execution_count": null,
   "metadata": {},
   "outputs": [],
   "source": []
  },
  {
   "cell_type": "code",
   "execution_count": 9,
   "metadata": {},
   "outputs": [
    {
     "data": {
      "text/plain": [
       "180626"
      ]
     },
     "execution_count": 9,
     "metadata": {},
     "output_type": "execute_result"
    }
   ],
   "source": [
    "# Do not use 'is' relationships\n",
    "all_relationships_non_is = all_relationships[all_relationships.RelationshipLabel != \"is\"]\n",
    "len(all_relationships_non_is)"
   ]
  },
  {
   "cell_type": "code",
   "execution_count": 10,
   "metadata": {},
   "outputs": [
    {
     "data": {
      "text/plain": [
       "57187"
      ]
     },
     "execution_count": 10,
     "metadata": {},
     "output_type": "execute_result"
    }
   ],
   "source": [
    "images_w_relationships = all_relationships_non_is.ImageID.unique()\n",
    "len(images_w_relationships)"
   ]
  },
  {
   "cell_type": "code",
   "execution_count": 11,
   "metadata": {},
   "outputs": [
    {
     "data": {
      "text/plain": [
       "57187"
      ]
     },
     "execution_count": 11,
     "metadata": {},
     "output_type": "execute_result"
    }
   ],
   "source": [
    "images_w_relationships_paths = [os.path.join(IMAGE_DIR_REL, (f + '.jpg')) for f in images_w_relationships]\n",
    "len(images_w_relationships_paths)"
   ]
  },
  {
   "cell_type": "code",
   "execution_count": null,
   "metadata": {},
   "outputs": [],
   "source": []
  },
  {
   "cell_type": "code",
   "execution_count": 12,
   "metadata": {},
   "outputs": [],
   "source": [
    "imageIDs_trainz = images_w_relationships"
   ]
  },
  {
   "cell_type": "code",
   "execution_count": 13,
   "metadata": {},
   "outputs": [
    {
     "data": {
      "text/plain": [
       "57187"
      ]
     },
     "execution_count": 13,
     "metadata": {},
     "output_type": "execute_result"
    }
   ],
   "source": [
    "filenames_trainz = [os.path.join(IMAGE_DIR_REL, (f + '.jpg')) for f in imageIDs_trainz]\n",
    "len(filenames_trainz)"
   ]
  },
  {
   "cell_type": "code",
   "execution_count": null,
   "metadata": {},
   "outputs": [],
   "source": []
  },
  {
   "cell_type": "code",
   "execution_count": 14,
   "metadata": {},
   "outputs": [
    {
     "data": {
      "text/plain": [
       "180626"
      ]
     },
     "execution_count": 14,
     "metadata": {},
     "output_type": "execute_result"
    }
   ],
   "source": [
    "# Get training relationships\n",
    "trainz_relationships = all_relationships_non_is[all_relationships_non_is.ImageID.isin(imageIDs_trainz)]\n",
    "len(trainz_relationships)"
   ]
  },
  {
   "cell_type": "markdown",
   "metadata": {},
   "source": [
    "### class dictionary"
   ]
  },
  {
   "cell_type": "code",
   "execution_count": 15,
   "metadata": {},
   "outputs": [],
   "source": [
    "import csv\n",
    "class_dict = {}\n",
    "reader = csv.reader(open(r\"D:\\data\\open-images-2019-visual-relationship\\challenge-2019-classes-vrd.csv\"))\n",
    "for row in reader:\n",
    "    k, v = row\n",
    "    class_dict[k] = v.replace(' ', '').replace('(', '').replace(')', '').lower()\n",
    "\n",
    "reader = csv.reader(open( r\"D:\\data\\open-images-2019-visual-relationship\\challenge-2019-attributes-description.csv\"))\n",
    "for row in reader:\n",
    "    k, v = row\n",
    "    class_dict[k] = v.replace(' ', '').replace('(', '').replace(')', '').lower()"
   ]
  },
  {
   "cell_type": "code",
   "execution_count": 16,
   "metadata": {},
   "outputs": [],
   "source": [
    "trainz_relationships['LabelClass1'] = trainz_relationships.LabelName1.apply(lambda x: class_dict[x])\n",
    "trainz_relationships['LabelClass2'] = trainz_relationships.LabelName2.apply(lambda x: class_dict[x])"
   ]
  },
  {
   "cell_type": "markdown",
   "metadata": {},
   "source": [
    "***"
   ]
  },
  {
   "cell_type": "code",
   "execution_count": null,
   "metadata": {},
   "outputs": [],
   "source": []
  },
  {
   "cell_type": "code",
   "execution_count": 17,
   "metadata": {},
   "outputs": [],
   "source": [
    "def get_relationship_triplet_list():\n",
    "\n",
    "    trainz_relationship_list = []\n",
    "    i = 0\n",
    "    for iid in imageIDs_trainz:\n",
    "        print_progress(i, len(imageIDs_trainz))\n",
    "        trainz_relationship_list.append(trainz_relationships.loc[trainz_relationships.ImageID == iid, \\\n",
    "                                                                 [\"LabelClass1\", \"LabelClass2\", \"RelationshipLabel\"]].values)\n",
    "        i = i+1\n",
    "    return trainz_relationship_list"
   ]
  },
  {
   "cell_type": "code",
   "execution_count": 18,
   "metadata": {},
   "outputs": [
    {
     "name": "stdout",
     "output_type": "stream",
     "text": [
      "- Data loaded from cache-file: D:\\data\\VRNet\\trainz_relationship_list.pkl\n",
      "Wall time: 234 ms\n"
     ]
    },
    {
     "data": {
      "text/plain": [
       "57187"
      ]
     },
     "execution_count": 18,
     "metadata": {},
     "output_type": "execute_result"
    }
   ],
   "source": [
    "%%time\n",
    "cache_path = os.path.join(DATA_OUTPUT_DIR,\n",
    "                              \"trainz_relationship_list.pkl\")\n",
    "\n",
    "trainz_relationship_list = cache(cache_path=cache_path,\n",
    "                        fn=get_relationship_triplet_list)\n",
    "\n",
    "len(trainz_relationship_list)"
   ]
  },
  {
   "cell_type": "code",
   "execution_count": 19,
   "metadata": {},
   "outputs": [
    {
     "data": {
      "text/plain": [
       "(51487, 5700)"
      ]
     },
     "execution_count": 19,
     "metadata": {},
     "output_type": "execute_result"
    }
   ],
   "source": [
    "# Split train and validation\n",
    "testz_relationship_list = trainz_relationship_list[:5700]\n",
    "\n",
    "trainz_relationship_list = trainz_relationship_list[:-5700]\n",
    "\n",
    "len(trainz_relationship_list), len(testz_relationship_list)"
   ]
  },
  {
   "cell_type": "code",
   "execution_count": null,
   "metadata": {},
   "outputs": [],
   "source": []
  },
  {
   "cell_type": "code",
   "execution_count": 20,
   "metadata": {},
   "outputs": [],
   "source": [
    "trainz_relationship_list_joined = []\n",
    "for relations in trainz_relationship_list:\n",
    "    trainz_relationship_list_joined.append(list(set([' '.join(rel) for rel in relations])))"
   ]
  },
  {
   "cell_type": "code",
   "execution_count": 21,
   "metadata": {},
   "outputs": [],
   "source": [
    "testz_relationship_list_joined = []\n",
    "for relations in trainz_relationship_list:\n",
    "    testz_relationship_list_joined.append(list(set([' '.join(rel) for rel in relations])))"
   ]
  },
  {
   "cell_type": "code",
   "execution_count": null,
   "metadata": {},
   "outputs": [],
   "source": []
  },
  {
   "cell_type": "code",
   "execution_count": 22,
   "metadata": {},
   "outputs": [],
   "source": [
    "def flatten(relations_listlist):\n",
    "    relations_list = [relation\n",
    "                     for relations_list in relations_listlist\n",
    "                     for relation in relations_list]\n",
    "    \n",
    "    return relations_list"
   ]
  },
  {
   "cell_type": "code",
   "execution_count": 23,
   "metadata": {},
   "outputs": [
    {
     "name": "stdout",
     "output_type": "stream",
     "text": [
      "inception_v3, 3, t, 45609, 51487, 174106\n",
      "inception_v3, 3, v, 4951, 5700, 39683\n",
      "inception_v3, 6, t, 42190, 51487, 174106\n",
      "inception_v3, 6, v, 4688, 5700, 39683\n",
      "inception_v3, 9, t, 46471, 51487, 174106\n",
      "inception_v3, 9, v, 5019, 5700, 39683\n",
      "mobilenetv2_1.00_224, 3, t, 48270, 51487, 174106\n",
      "mobilenetv2_1.00_224, 3, v, 5180, 5700, 39683\n",
      "mobilenetv2_1.00_224, 6, t, 50352, 51487, 174106\n",
      "mobilenetv2_1.00_224, 6, v, 5575, 5700, 39683\n",
      "mobilenetv2_1.00_224, 9, t, 50218, 51487, 174106\n",
      "mobilenetv2_1.00_224, 9, v, 5540, 5700, 39683\n",
      "NASNet, 3, t, 47742, 51487, 174106\n",
      "NASNet, 3, v, 5285, 5700, 39683\n",
      "NASNet, 6, t, 49768, 51487, 174106\n",
      "NASNet, 6, v, 5442, 5700, 39683\n",
      "NASNet, 9, t, 50206, 51487, 174106\n",
      "NASNet, 9, v, 5532, 5700, 39683\n",
      "resnet101, 3, t, 21356, 51487, 174106\n",
      "resnet101, 3, v, 2534, 5700, 39683\n",
      "resnet101, 6, t, 18884, 51487, 174106\n",
      "resnet101, 6, v, 2505, 5700, 39683\n",
      "resnet101, 9, t, 21126, 51487, 174106\n",
      "resnet101, 9, v, 2746, 5700, 39683\n",
      "resnet50, 6, t, 18064, 51487, 174106\n",
      "resnet50, 6, v, 2505, 5700, 39683\n",
      "resnet50, 9, t, 18615, 51487, 174106\n",
      "resnet50, 9, v, 2562, 5700, 39683\n",
      "vgg16, 6, t, 20046, 51487, 174106\n",
      "vgg16, 6, v, 2867, 5700, 39683\n",
      "vgg16, 9, t, 21984, 51487, 174106\n",
      "vgg16, 9, v, 2891, 5700, 39683\n",
      "vgg19, 3, t, 18619, 51487, 174106\n",
      "vgg19, 3, v, 2624, 5700, 39683\n",
      "vgg19, 6, t, 18958, 51487, 174106\n",
      "vgg19, 6, v, 2691, 5700, 39683\n",
      "vgg19, 9, t, 20115, 51487, 174106\n",
      "vgg19, 9, v, 2759, 5700, 39683\n",
      "Wall time: 2.75 s\n"
     ]
    }
   ],
   "source": [
    "%%time\n",
    "from glob import glob\n",
    "import pickle\n",
    "\n",
    "predictions = [(pickle.load(open(f, 'rb')), f) for f in \n",
    "              glob(os.path.join(DATA_OUTPUT_DIR, \n",
    "                                f\"trainz_*_*_predictions.pkl\"))]\n",
    "###########################################\n",
    "predictions_c = predictions\n",
    "for i, (prediction, filename) in enumerate(predictions):\n",
    "    for j, pred in enumerate(prediction):\n",
    "        if 'inside of' in pred or 'interacts with' in pred:\n",
    "            pred = pred.replace('inside of', 'inside_of').replace('interacts with', 'interacts_with')\n",
    "            predictions_c[i][0][j] = pred\n",
    "###########################################\n",
    "for prediction, filename in predictions_c:\n",
    "    # train\n",
    "    precision = [predicted in actual \n",
    "             for predicted, actual in zip(prediction, trainz_relationship_list_joined)]\n",
    "    # test\n",
    "    t_precision = [predicted in actual \n",
    "             for predicted, actual in zip(prediction[:5700], testz_relationship_list_joined)]\n",
    "    \n",
    "    name = os.path.basename(filename).replace('trainz_', '').replace('_predictions.pkl', '')\n",
    "#     print(f\"test:\\t {np.sum(t_precision)}/{len(precision)}\\t {np.sum(t_precision)/len(t_precision)} : {name}\")\n",
    "#     print(f\"train:\\t {np.sum(precision)}/{len(precision)}\\t {np.sum(precision)/len(precision)} : {name}\")\n",
    "    print(f\"{name[:-2]}, {name[-1]}, t, {np.sum(precision)}, {len(precision)}, {len(flatten(trainz_relationship_list))}\")\n",
    "    print(f\"{name[:-2]}, {name[-1]}, v, {np.sum(t_precision)}, {len(t_precision)}, {len(flatten(testz_relationship_list))}\")"
   ]
  },
  {
   "cell_type": "markdown",
   "metadata": {},
   "source": [
    "***"
   ]
  }
 ],
 "metadata": {
  "kernelspec": {
   "display_name": "Python 3",
   "language": "python",
   "name": "python3"
  },
  "language_info": {
   "codemirror_mode": {
    "name": "ipython",
    "version": 3
   },
   "file_extension": ".py",
   "mimetype": "text/x-python",
   "name": "python",
   "nbconvert_exporter": "python",
   "pygments_lexer": "ipython3",
   "version": "3.7.4"
  }
 },
 "nbformat": 4,
 "nbformat_minor": 4
}
